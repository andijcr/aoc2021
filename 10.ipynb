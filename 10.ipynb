{
 "cells": [
  {
   "cell_type": "markdown",
   "id": "ccf85d14-8b38-4cf7-932d-832ec846d5b4",
   "metadata": {},
   "source": [
    "# Day 10\n",
    "## part one\n",
    "parsing and finding syntax errors"
   ]
  },
  {
   "cell_type": "code",
   "execution_count": 1,
   "id": "a02a9151-b943-4f32-a5bb-306cf1de7e44",
   "metadata": {},
   "outputs": [
    {
     "data": {
      "text/plain": [
       "8.6.11"
      ]
     },
     "execution_count": 1,
     "metadata": {},
     "output_type": "execute_result"
    }
   ],
   "source": [
    "package require Tcl 8.5"
   ]
  },
  {
   "cell_type": "code",
   "execution_count": 2,
   "id": "f1ba2957-5a04-4ce9-ac0f-b9078ab04aa4",
   "metadata": {},
   "outputs": [
    {
     "data": {
      "text/plain": [
       "1.8.4"
      ]
     },
     "execution_count": 2,
     "metadata": {},
     "output_type": "execute_result"
    }
   ],
   "source": [
    "package require struct::list 1.8.4"
   ]
  },
  {
   "cell_type": "code",
   "execution_count": 3,
   "id": "df6da6f2-9741-4a8c-be96-05b5dc60e8c2",
   "metadata": {},
   "outputs": [
    {
     "name": "stdout",
     "output_type": "stream",
     "text": [
      "[({(<(())[]>[[{[]{<()<>>\n",
      "[(()[<>])]({[<{<<[]>>(\n",
      "{([(<{}[<>[]}>{[]{[(<()>\n",
      "(((({<>}<{<{<>}{[]{[]{}\n",
      "[[<[([]))<([[{}[[()]]]\n",
      "[{[{({}]{}}([{[{{{}}([]\n",
      "{<[[]]>}<{[{[{[]{()[[[]\n",
      "[<(<(<(<{}))><([]([]()\n",
      "<{([([[(<>()){}]>(<<{{\n",
      "<{([{{}}[<[[[<>{}]]]>[]]\n"
     ]
    }
   ],
   "source": [
    "set fl [open 10testinput]\n",
    "set test_input [split [read $fl] \\n]; close $fl\n",
    "\n",
    "set fl [open 10input]\n",
    "set input [struct::list filter [split [read $fl] \\n] {string length}]; close $fl\n",
    "\n",
    "proc tostr { input } { join $input \\n } \n",
    "\n",
    "puts [tostr $test_input]\n"
   ]
  },
  {
   "cell_type": "code",
   "execution_count": 4,
   "id": "0aa29411-10cf-4a2d-9e8f-f7c0820b9665",
   "metadata": {},
   "outputs": [
    {
     "name": "stdout",
     "output_type": "stream",
     "text": [
      "opening \\{ {[} ( < \n",
      "closing \\{ \\} {[} \\] ( ) < >\n",
      "\n",
      "todo ok\n",
      "cought  INCOMPLETE\n"
     ]
    },
    {
     "data": {
      "text/plain": [
       "1"
      ]
     },
     "execution_count": 4,
     "metadata": {},
     "output_type": "execute_result"
    }
   ],
   "source": [
    "set closing [dict create \\{ \\} \\[ \\] ( ) < >]\n",
    "set opening [dict keys $closing]\n",
    "\n",
    "proc car { str } { string index $str 0 }\n",
    "proc cdr { str } { string range $str 1 end }\n",
    "\n",
    "proc parse { input } {\n",
    "    global opening\n",
    "    global closing\n",
    "    \n",
    "    # no input: ok\n",
    "    if { $input == {} } { return {} }\n",
    "\n",
    "    # first char must be an opening or CORRUPTED \n",
    "    set head [lsearch -exact -inline $opening [car $input]]\n",
    "    if { $head == {} } { throw [list CORRUPTED_START [car $input]] {} }\n",
    "    \n",
    "    set rest [cdr $input]\n",
    "    if { $rest == {} } { throw INCOMPLETE {} }\n",
    "    # parse rest while it starts with an opening\n",
    "    while { [lsearch -exact $opening [car $rest]] >= 0} {\n",
    "        set rest [ parse $rest ]\n",
    "        # no rest: INCOMPLETE (we still have to match our opening\n",
    "        if { [string length $rest] == 0 } { throw INCOMPLETE {} }\n",
    "    }\n",
    "    \n",
    "    #if the closing char is different from expected, CORRUPTED\n",
    "    if {[dict get $closing $head] != [car $rest]} { throw [list CORRUPTED_END [car $rest]] {} }\n",
    "    # return what's left to parse\n",
    "    cdr $rest \n",
    "}\n",
    "\n",
    "proc check_error { input type token} {\n",
    "    upvar $type et\n",
    "    upvar $token tok\n",
    "    set et {}\n",
    "    set tok {}\n",
    "    if { [catch {parse $input} _ err] } {\n",
    "        lassign [dict get $err -errorcode] et tok\n",
    "        return 1\n",
    "    }\n",
    "    return 0\n",
    "}\n",
    "puts \"opening $opening \\nclosing $closing\"\n",
    "puts \"[lsearch -exact -inline $opening \\>]\"\n",
    "\n",
    "puts \"[parse <{[][]<><{}[]>}>]todo ok\"\n",
    "if { [catch {parse <} res err] } {\n",
    "    puts \"cought $res [dict get $err -errorcode]\"\n",
    "}\n",
    "\n",
    "check_error << type token"
   ]
  },
  {
   "cell_type": "code",
   "execution_count": 5,
   "id": "8034a615-8818-4154-869c-23277ebe48fe",
   "metadata": {},
   "outputs": [
    {
     "name": "stdout",
     "output_type": "stream",
     "text": [
      "[({(<(())[]>[[{[]{<()<>>\n",
      "INCOMPLETE \n",
      "[(()[<>])]({[<{<<[]>>(\n",
      "{([(<{}[<>[]}>{[]{[(<()>\n",
      "CORRUPTED_END }\n",
      "(((({<>}<{<{<>}{[]{[]{}\n",
      "INCOMPLETE \n",
      "[[<[([]))<([[{}[[()]]]\n",
      "CORRUPTED_END )\n",
      "[{[{({}]{}}([{[{{{}}([]\n",
      "CORRUPTED_END ]\n",
      "{<[[]]>}<{[{[{[]{()[[[]\n",
      "[<(<(<(<{}))><([]([]()\n",
      "CORRUPTED_END )\n",
      "<{([([[(<>()){}]>(<<{{\n",
      "CORRUPTED_END >\n",
      "<{([{{}}[<[[[<>{}]]]>[]]\n",
      "INCOMPLETE \n",
      "in: {([(<{}[<>[]}>{[]{[(<()>\n",
      "out: -1197-\n"
     ]
    },
    {
     "data": {
      "text/plain": [
       "1197"
      ]
     },
     "execution_count": 5,
     "metadata": {},
     "output_type": "execute_result"
    }
   ],
   "source": [
    "foreach line $test_input { \n",
    "    puts $line\n",
    "    if { [check_error $line type token] } {\n",
    "        puts \"$type $token\"\n",
    "    }\n",
    "}\n",
    "\n",
    "set scoring [dict create ) 3 \\] 57 } 1197 > 25137]\n",
    "\n",
    "proc score { line } {\n",
    "    global scoring\n",
    "    if { [check_error $line type token] } {\n",
    "        if { $type == {CORRUPTED_END} } {\n",
    "            return [dict get $scoring $token]\n",
    "        }\n",
    "    }\n",
    "    return 0\n",
    "}\n",
    "\n",
    "proc wrap_score {line} {\n",
    "    puts \"in: $line\"\n",
    "    set res [score $line]\n",
    "    puts \"out: -$res-\"\n",
    "    return $res\n",
    "}\n",
    "\n",
    "proc sum { a b } { expr {$a + $b } }\n",
    "\n",
    "wrap_score [lindex $test_input 2]"
   ]
  },
  {
   "cell_type": "code",
   "execution_count": 6,
   "id": "e72655d0-f82d-48af-9fd3-8fd2abc63226",
   "metadata": {},
   "outputs": [
    {
     "name": "stdout",
     "output_type": "stream",
     "text": [
      "test_res: 26397\n",
      "part one res: 390993\n"
     ]
    }
   ],
   "source": [
    "puts \"test_res: [struct::list fold [struct::list map $test_input score] 0 sum]\"\n",
    "puts \"part one res: [struct::list fold [struct::list map $input score] 0 sum]\""
   ]
  },
  {
   "cell_type": "markdown",
   "id": "46de55ba-5e79-4067-b29b-91f83d32fca4",
   "metadata": {},
   "source": [
    "## part two\n",
    "completing the programs"
   ]
  },
  {
   "cell_type": "code",
   "execution_count": 11,
   "id": "c6c01f85-9a3e-4f2d-8316-f0ca293866fb",
   "metadata": {},
   "outputs": [],
   "source": [
    "# with INCOMPLETE we send up also the closing tag\n",
    "proc parse { input } {\n",
    "    global opening\n",
    "    global closing\n",
    "    \n",
    "    set head [car $input]\n",
    "    set rest [cdr $input]\n",
    "    set tail [dict get $closing $head]\n",
    "    \n",
    "    #puts \"[string repeat \" \" $lvl]$head\"\n",
    "    \n",
    "    if { $rest == {} } { return [list INCOMPLETE [list $tail]] }\n",
    "    # parse rest while it starts with an opening\n",
    "    while { [lsearch -exact $opening [car $rest]] >= 0} {\n",
    "        set tmp [ parse $rest ]\n",
    "        lassign $tmp cmd payload\n",
    "\n",
    "        if { $cmd == {INCOMPLETE} } { return [list INCOMPLETE [linsert $payload end $tail]] }\n",
    "        if { $cmd == {CORRUPTED} } { return $tmp }\n",
    "\n",
    "        if { $payload == {} } { return [list INCOMPLETE [list $tail]] }\n",
    "        \n",
    "        set rest $payload\n",
    "    }\n",
    "\n",
    "    #if the closing char is different from expected, CORRUPTED\n",
    "    if { [car $rest] != $tail } { \n",
    "        return [list CORRUPTED [car $rest]] \n",
    "    }\n",
    "\n",
    "    #puts \"[string repeat \" \" $lvl]$tail\"\n",
    "\n",
    "    # return what's left to parse\n",
    "    list CONT [cdr $rest]\n",
    "}\n",
    "\n",
    "proc parse_siblings { rest } {\n",
    "    global opening\n",
    "    while { [lsearch -exact $opening [car $rest]] >= 0} {\n",
    "        set tmp [ parse $rest ]\n",
    "        lassign $tmp cmd payload\n",
    "\n",
    "        if { $cmd == {INCOMPLETE} || $cmd == {CORRUPTED} } { return $tmp }\n",
    "\n",
    "        if { $payload == {} } { break }\n",
    "        \n",
    "        set rest $payload\n",
    "    }\n",
    "    return DONE {}\n",
    "}\n",
    "# puts \"before: [parse [lindex $test_input 0]]\"\n",
    "\n",
    "# puts \"after: [parse [string cat [lindex $test_input 0] {*}[lindex [parse [lindex $test_input 0]] 1]]]\"\n",
    "\n",
    "\n",
    "set inc_scoring [dict create ) 1 \\] 2 \\} 3 > 4]\n",
    "proc step_score { prev now } { expr { $prev*5+$now } }\n",
    "proc inc_score { list } {\n",
    "    global inc_scoring\n",
    "    struct::list fold [\n",
    "        struct::list mapfor c $list { dict get $inc_scoring $c }\n",
    "    ] 0 step_score\n",
    "}"
   ]
  },
  {
   "cell_type": "code",
   "execution_count": 17,
   "id": "ac309ef5-b1c4-49d4-baae-94515b2f246b",
   "metadata": {},
   "outputs": [
    {
     "name": "stdout",
     "output_type": "stream",
     "text": [
      "[({(<(())[]>[[{[]{<()<>>\n",
      "INCOMPLETE {\\} \\} \\] \\] ) \\} ) \\]}\n",
      "[(()[<>])]({[<{<<[]>>(\n",
      "INCOMPLETE {) \\} > \\] \\} )}\n",
      "{([(<{}[<>[]}>{[]{[(<()>\n",
      "CORRUPTED \\}\n",
      "(((({<>}<{<{<>}{[]{[]{}\n",
      "INCOMPLETE {\\} \\} > \\} > ) ) ) )}\n",
      "[[<[([]))<([[{}[[()]]]\n",
      "CORRUPTED )\n",
      "[{[{({}]{}}([{[{{{}}([]\n",
      "CORRUPTED \\]\n",
      "{<[[]]>}<{[{[{[]{()[[[]\n",
      "INCOMPLETE {\\] \\] \\} \\} \\] \\} \\] \\} >}\n",
      "[<(<(<(<{}))><([]([]()\n",
      "CORRUPTED )\n",
      "<{([([[(<>()){}]>(<<{{\n",
      "CORRUPTED >\n",
      "<{([{{}}[<[[[<>{}]]]>[]]\n",
      "INCOMPLETE {\\] ) \\} >}\n",
      "test scores: 294 5566 288957 995444 1480781\n",
      "winner: 2391385187\n"
     ]
    }
   ],
   "source": [
    "foreach t $test_input { puts $t; puts [parse_siblings $t] }\n",
    "\n",
    "proc score_input { input } {\n",
    "    set parse_res [struct::list map $input parse_siblings]\n",
    "    set only_incomplete [struct::list filterfor res $parse_res { [lindex $res 0]=={INCOMPLETE} }]\n",
    "    lsort -integer [struct::list mapfor inc_seq $only_incomplete { inc_score [lindex $inc_seq 1] }]\n",
    "}\n",
    "\n",
    "puts \"test scores: [score_input $test_input]\"\n",
    "set scores [score_input $input]\n",
    "puts \"winner: [lindex $scores [expr {[llength $scores]/2}]]\""
   ]
  }
 ],
 "metadata": {
  "kernelspec": {
   "display_name": "Tcl",
   "language": "tcl",
   "name": "tcljupyter"
  },
  "language_info": {
   "file_extension": ".tcl",
   "mimetype": "txt/x-tcl",
   "name": "tcl",
   "version": "8.6.11"
  }
 },
 "nbformat": 4,
 "nbformat_minor": 5
}
