{
 "cells": [
  {
   "cell_type": "markdown",
   "id": "cc93a94e-0fe0-4aa3-9e15-2f612e23f644",
   "metadata": {},
   "source": [
    "# day four\n",
    "## part one\n",
    "simulating a bingo experience"
   ]
  },
  {
   "cell_type": "code",
   "execution_count": 1,
   "id": "af7d535b-a60e-447d-bb85-388249fd354a",
   "metadata": {},
   "outputs": [
    {
     "data": {
      "text/plain": [
       "8.6.11"
      ]
     },
     "execution_count": 1,
     "metadata": {},
     "output_type": "execute_result"
    }
   ],
   "source": [
    "package require Tcl 8.5"
   ]
  },
  {
   "cell_type": "code",
   "execution_count": 2,
   "id": "fe36d19c-3159-4ad4-9681-63fd2faeb1b3",
   "metadata": {},
   "outputs": [
    {
     "data": {
      "text/plain": [
       "0.1"
      ]
     },
     "execution_count": 2,
     "metadata": {},
     "output_type": "execute_result"
    }
   ],
   "source": [
    "package require struct::list 1.8.4\n",
    "package require struct::matrix 2.0.4\n",
    "package require generator"
   ]
  },
  {
   "cell_type": "code",
   "execution_count": 3,
   "id": "00f8353f-a80d-47b6-b87d-f6135e5a23e4",
   "metadata": {},
   "outputs": [
    {
     "name": "stdout",
     "output_type": "stream",
     "text": [
      "numbers: 87 12 53 23 31 70 37 79 95 16 72 9 98 92 5 74 17 60 96 80 75 11 73 33 3 84 81 2 97 93 59 13 77 52 69 83 51 64 48 82 7 49 20 8 36 66 19 0 99 41 91 78 42 40 62 63 57 39 55 47 29 50 58 34 27 43 30 35 22 28 4 14 26 32 10 88 46 65 90 76 38 6 71 67 44 68 86 25 21 24 56 94 18 89 61 15 1 45 54 85\n",
      "\n",
      "49 0  9  90 8 \t52 53 19 56 80\t2  60 64 25 55\t49 96 0  87 40\t97 98 43 36 48\t31 62 76 66 93\t98 77 12 72 83\t16 47 66 85 17\t82 9  2  68 0 \t29 58 10 50 19\n",
      "41 88 56 13 6 \t94 33 3  78 32\t89 1  21 65 41\t13 22 10 84 52\t6  83 89 41 85\t77 11 97 51 32\t22 78 75 88 11\t54 87 78 21 60\t16 72 83 31 5 \t47 4  51 22 69\n",
      "17 11 45 26 75\t10 89 66 48 55\t6  12 58 11 68\t95 30 50 14 1 \t69 79 51 0  67\t42 88 68 35 72\t67 63 84 60 6 \t45 44 35 33 32\t60 34 92 62 21\t66 5  83 82 25\n",
      "29 62 27 83 36\t99 23 88 8  39\t23 49 44 91 14\t58 17 98 45 38\t62 93 30 82 45\t29 79 70 85 47\t29 95 73 96 53\t88 46 27 49 18\t13 48 69 59 81\t71 23 64 93 14\n",
      "31 78 1  55 38\t76 75 44 79 14\t45 52 99 47 63\t63 11 74 62 42\t87 32 25 34 29\t91 3  96 38 14\t45 21 66 57 9 \t58 42 72 24 75\t7  87 28 42 14\t80 46 76 65 33\n",
      "\n",
      "98 54 93 47 26\t57 35 36 51 55\t25 37 24 76 98\t72 41 68 78 93\t84 96 80 41 16\t79 19 53 10 86\t31 58 84 49 55\t40 62 31 38 85\t1  24 53 43 17\t61 84 59 57 24\n",
      "44 23 33 40 72\t61 85 33 73 47\t20 48 47 40 22\t38 51 37 67 99\t85 77 47 95 46\t65 78 52 17 61\t38 14 25 23 11\t86 75 81 37 24\t37 27 6  19 9 \t93 83 10 9  51\n",
      "50 36 82 48 19\t2  53 59 10 26\t8  55 93 64 70\t81 2  48 88 43\t67 37 36 27 26\t83 98 22 88 8 \t70 37 0  46 29\t51 87 5  15 73\t3  89 63 80 67\t8  21 26 6  68\n",
      "29 18 16 56 55\t17 89 96 78 20\t5  13 30 31 46\t12 15 57 24 22\t87 70 66 75 86\t14 91 7  85 2 \t8  24 59 53 68\t58 83 46 32 60\t11 26 62 22 7 \t71 48 5  86 16\n",
      "24 95 78 42 27\t3  56 84 97 98\t10 65 68 3  66\t3  16 92 74 75\t13 64 31 25 48\t23 35 68 55 16\t66 17 10 3  99\t4  25 71 0  8 \t59 25 45 74 49\t55 11 29 25 35\n",
      "\n",
      "66 93 28 81 23\t7  38 9  16 19\t34 3  4  51 52\t2  5  6  9  61\t29 59 26 0  84\t35 16 21 88 17\t98 55 54 52 2 \t84 20 60 71 25\t24 67 68 3  32\t62 28 80 18 88\n",
      "98 77 82 52 70\t20 34 80 3  79\t38 15 24 71 36\t40 55 17 13 67\t22 74 99 42 1 \t73 26 19 83 66\t48 58 27 43 84\t31 46 66 75 48\t79 17 57 61 95\t76 53 65 81 40\n",
      "25 99 34 65 95\t1  26 49 82 97\t87 26 31 44 70\t95 81 30 25 47\t47 24 76 66 32\t46 36 70 22 8 \t9  0  29 65 57\t42 43 96 86 88\t71 29 22 63 52\t21 59 79 69 8 \n",
      "45 6  56 30 80\t14 71 64 67 59\t95 69 66 0  17\t45 75 88 68 48\t83 36 16 78 82\t32 48 72 28 68\t5  18 62 85 91\t14 98 47 76 87\t19 26 48 44 86\t60 94 14 64 92\n",
      "2  79 94 33 13\t40 72 98 25 99\t19 13 7  62 6 \t70 59 34 35 1 \t25 98 49 77 6 \t71 11 99 29 10\t8  94 31 80 16\t32 67 92 41 97\t70 20 74 76 47\t13 33 74 11 51\n",
      "\n",
      "86 90 87 66 34\t60 53 12 66 55\t31 10 57 24 82\t75 44 31 76 26\t98 14 58 10 48\t45 85 22 98 0 \t66 2  23 78 88\t27 98 97 73 63\t18 29 12 64 72\t99 81 37 58 10\n",
      "63 74 68 32 14\t42 16 96 98 51\t45 32 44 60 8 \t91 94 99 32 72\t26 38 54 34 66\t41 55 90 39 51\t76 15 97 62 59\t35 31 67 64 71\t9  85 74 36 10\t55 6  96 93 21\n",
      "64 85 55 47 83\t10 79 38 36 35\t21 20 65 7  73\t74 10 86 71 90\t31 82 35 32 78\t62 19 82 13 21\t19 32 4  99 46\t62 25 34 6  65\t94 71 39 76 46\t28 67 33 42 50\n",
      "40 53 57 50 17\t72 14 86 80 2 \t17 89 63 4  66\t11 37 81 15 95\t96 19 94 15 2 \t24 20 8  84 16\t30 37 80 77 91\t84 29 77 24 10\t90 33 79 80 2 \t73 1  65 9  61\n",
      "49 54 42 69 46\t62 76 83 17 61\t96 97 85 50 33\t51 34 28 35 59\t75 23 97 55 24\t32 66 95 80 68\t68 44 42 22 74\t99 82 21 33 39\t40 20 25 95 81\t27 44 78 45 63\n",
      "\n",
      "80 19 46 94 66\t30 71 55 20 89\t68 11 74 55 27\t29 50 92 98 61\t70 28 39 95 24\t46 35 73 24 21\t14 12 39 97 25\t64 2  78 87 76\t69 49 68 81 87\t48 63 71 80 14\n",
      "21 99 49 59 53\t14 25 41 49 87\t77 94 26 69 65\t83 78 44 90 52\t41 51 81 43 37\t79 42 97 34 67\t95 32 99 35 86\t32 82 35 57 26\t25 97 64 19 93\t32 82 61 88 27\n",
      "84 4  10 1  52\t84 93 62 76 72\t60 64 17 48 19\t36 45 7  41 12\t92 40 48 10 34\t74 55 0  88 15\t71 91 63 37 5 \t3  99 20 36 72\t4  30 80 15 13\t8  39 49 43 9 \n",
      "37 57 85 2  32\t58 81 88 98 66\t45 25 61 85 70\t23 99 3  28 64\t36 56 67 69 58\t33 84 17 59 5 \t70 48 18 42 16\t25 63 13 69 39\t95 55 29 60 10\t20 29 73 96 67\n",
      "11 35 56 20 23\t10 44 82 17 73\t22 44 4  54 24\t6  62 71 5  27\t85 91 68 93 84\t93 82 92 51 3 \t75 30 60 21 78\t50 29 52 0  81\t73 53 11 43 41\t83 87 36 89 51\n",
      "\n",
      "47 85 11 93 18\t45 73 25 1  54\t28 74 19 88 35\t88 85 49 97 70\t55 28 54 36 84\t14 2  7  44 32\t55 3  89 99 76\t20 58 84 67 18\t64 32 17 52 30\t75 5  14 82 16\n",
      "70 36 6  35 26\t11 20 97 66 63\t58 82 37 65 8 \t3  87 2  69 23\t52 13 48 37 34\t38 72 37 73 91\t17 22 45 62 6 \t26 89 62 47 72\t9  70 58 38 33\t8  77 29 65 48\n",
      "1  98 48 63 14\t42 4  31 67 77\t59 38 27 21 9 \t26 80 73 71 31\t66 11 10 19 16\t27 34 68 61 35\t72 75 25 69 92\t74 77 43 52 4 \t54 83 15 28 43\t9  3  24 46 89\n",
      "2  53 12 96 8 \t23 68 91 47 37\t50 53 39 89 48\t6  82 74 21 86\t32 0  93 77 23\t95 97 6  47 92\t83 35 15 11 21\t45 8  38 31 96\t63 69 39 62 48\t94 36 27 21 80\n",
      "90 15 43 45 62\t86 65 3  87 79\t41 78 13 43 1 \t33 36 67 4  5 \t20 9  57 91 45\t36 1  20 66 17\t78 54 36 48 64\t33 75 68 76 63\t89 98 81 91 49\t30 13 64 51 37\n",
      "\n",
      "69 23 14 26 55\t54 23 73 55 79\t61 26 17 18 20\t15 84 42 49 16\t79 74 24 76 31\t65 42 46 8  83\t24 57 43 0  60\t1  55 29 58 66\t90 78 56 14 80\t34 41 12 27 99\n",
      "83 5  77 41 53\t40 80 30 99 42\t90 98 43 47 72\t85 62 86 12 29\t97 94 83 14 3 \t54 89 93 70 32\t2  49 41 90 62\t76 49 80 18 87\t47 31 6  50 74\t68 16 58 79 5 \n",
      "19 30 3  52 84\t81 53 1  72 75\t19 63 73 15 58\t63 6  80 94 70\t40 1  53 81 12\t77 53 95 34 37\t23 16 17 75 26\t24 20 4  38 92\t3  36 63 25 65\t22 81 6  48 15\n",
      "98 78 90 80 92\t34 90 84 39 37\t4  2  7  51 9 \t45 52 65 48 37\t90 48 27 21 25\t24 9  85 74 4 \t31 50 20 48 92\t15 73 32 31 57\t93 22 30 11 37\t97 95 69 29 42\n",
      "94 42 58 29 50\t51 31 57 74 65\t11 31 1  54 96\t90 97 73 7  95\t85 56 95 75 54\t3  50 14 76 60\t18 27 44 69 76\t61 71 52 6  60\t4  27 45 29 42\t61 8  23 14 70\n",
      "\n",
      "22 16 19 68 76\t73 18 43 92 54\t56 86 12 94 96\t39 74 21 27 84\t29 5  32 91 59\t36 10 26 71 11\t56 91 36 41 79\t83 89 64 88 28\t77 33 14 72 65\t46 6  84 7  63\n",
      "21 94 95 52 7 \t20 61 98 9  62\t59 51 82 16 31\t30 50 6  19 64\t1  48 20 24 95\t92 23 60 93 64\t59 92 63 86 22\t98 63 54 92 39\t67 50 22 21 42\t72 53 30 18 58\n",
      "66 59 80 50 62\t67 19 51 24 32\t68 15 23 28 42\t88 73 44 67 25\t71 3  0  60 89\t63 80 20 42 9 \t17 32 73 48 58\t70 60 21 22 37\t40 69 36 30 7 \t12 28 32 33 25\n",
      "5  45 43 29 97\t41 38 37 64 17\t11 30 7  69 13\t37 35 16 77 42\t85 65 28 31 6 \t97 41 79 91 37\t12 78 67 5  13\t24 91 23 53 27\t68 53 2  27 44\t88 1  85 19 23\n",
      "83 87 28 58 51\t12 77 56 96 82\t35 14 18 21 4 \t85 81 15 59 68\t87 27 19 37 11\t8  67 56 38 30\t30 23 44 54 24\t10 12 65 85 32\t66 32 47 34 54\t75 83 26 86 57\n",
      "\n",
      "59 24 46 60 3 \t55 90 73 61 77\t1  59 73 51 94\t37 11 53 39 83\t18 79 54 3  94\t27 84 82 87 8 \t73 14 0  64 88\t10 87 15 45 0 \t8  55 17 39 67\t50 8  42 43 47\n",
      "72 68 30 36 71\t50 47 93 86 48\t54 78 45 19 16\t54 46 72 13 9 \t34 16 70 88 96\t51 60 67 37 76\t31 38 78 39 17\t41 99 21 37 95\t12 35 62 95 44\t94 10 76 11 81\n",
      "14 37 95 63 82\t66 85 22 32 2 \t30 97 87 52 67\t57 27 24 96 26\t22 78 17 85 69\t65 59 28 36 26\t67 96 93 76 58\t49 18 29 44 79\t48 29 83 0  91\t86 14 31 79 63\n",
      "55 38 93 94 21\t51 40 57 63 25\t66 32 31 37 26\t76 17 31 59 25\t15 68 55 13 24\t44 22 35 73 45\t18 15 83 30 99\t43 59 67 78 3 \t5  65 99 20 58\t19 37 55 58 68\n",
      "20 13 69 76 6 \t5  0  72 9  59\t23 3  65 83 6 \t68 0  48 77 60\t27 5  63 52 9 \t1  58 23 16 77\t91 34 20 82 43\t97 28 53 6  7 \t23 15 52 81 75\t48 84 25 61 23\n",
      "\n",
      "77 44 23 12 1 \t17 45 77 99 81\t66 21 68 0  78\t69 1  70 35 26\t44 6  93 24 17\t61 34 67 97 93\t48 43 25 6  91\t27 45 10 53 21\t15 63 2  35 11\t68 22 95 71 42\n",
      "18 52 31 75 70\t16 31 69 14 64\t45 31 98 54 74\t4  50 13 55 66\t38 45 68 3  72\t94 50 48 37 68\t18 89 15 88 71\t96 60 50 89 69\t54 0  69 94 92\t18 0  61 86 44\n",
      "5  85 28 89 6 \t39 62 59 13 96\t32 97 86 14 51\t27 24 86 81 11\t62 34 92 90 65\t39 3  56 41 35\t61 22 58 10 7 \t66 34 94 84 5 \t27 50 70 10 57\t46 29 51 23 99\n",
      "42 58 88 9  87\t2  28 24 38 83\t94 52 56 7  17\t20 97 25 18 37\t29 69 16 83 14\t21 19 86 12 69\t76 11 78 39 13\t57 42 55 75 51\t12 81 45 90 40\t11 60 66 12 52\n",
      "38 99 57 78 72\t3  55 1  15 75\t88 44 33 20 77\t71 28 68 6  15\t71 5  67 4  47\t73 83 28 26 90\t75 34 4  47 45\t33 62 74 13 86\t22 87 61 48 44\t53 87 41 90 49\n",
      "\n"
     ]
    }
   ],
   "source": [
    "set fl [open 04input]; \n",
    "set data [struct::list filter [split [read $fl] \\n] {string length}]; close $fl\n",
    "set boards_tmp [lassign $data numbers]; unset data;\n",
    "\n",
    "set numbers [split $numbers ,]\n",
    "puts \"numbers: $numbers\"\n",
    "\n",
    "set boards {}\n",
    "foreach {0 1 2 3 4} [struct::list mapfor r $boards_tmp { struct::list filter [split $r \" \"] {string length} }] {\n",
    "    set tmp [struct::matrix]\n",
    "    $tmp deserialize [list 5 5 [list $0 $1 $2 $3 $4]]\n",
    "    #puts \"[$tmp format 2string]\\n\"\n",
    "    lappend boards $tmp\n",
    "}\n",
    "\n",
    "proc print_grid {boards} {\n",
    "    foreach {0 1 2 3 4 5 6 7 8 9} [struct::list mapfor bb $boards { $bb format 2string }] {\n",
    "        foreach 0 [split $0 \\n] 1 [split $1 \\n] 2 [split $2 \\n] 3 [split $3 \\n] 4 [split $4 \\n] 5 [split $5 \\n] 6 [split $6 \\n] 7 [split $7 \\n] 8 [split $8 \\n] 9 [split $9 \\n] {\n",
    "            puts \"$0\\t$1\\t$2\\t$3\\t$4\\t$5\\t$6\\t$7\\t$8\\t$9\"\n",
    "        }\n",
    "        puts {}\n",
    "    }\n",
    "}\n",
    "\n",
    "puts {}\n",
    "print_grid $boards"
   ]
  },
  {
   "cell_type": "code",
   "execution_count": 4,
   "id": "c56e6435-ed25-4fcf-9a8b-dca2ffe3d099",
   "metadata": {},
   "outputs": [
    {
     "name": "stdout",
     "output_type": "stream",
     "text": [
      "7 4 9 5 11 17 23 2 0 14 21 24 10 16 13 6 15 25 12 22 18 20 8 19 3 26 1\n",
      "22 13 17 11 0 \t3  15 0  2  22\t14 21 17 24 4 \t\t\t\t\t\t\t\n",
      "8  2  23 4  24\t9  18 13 17 5 \t10 16 15 9  19\t\t\t\t\t\t\t\n",
      "21 9  14 16 7 \t19 8  7  25 23\t18 8  23 26 20\t\t\t\t\t\t\t\n",
      "6  10 3  18 5 \t20 11 10 24 4 \t22 11 13 6  5 \t\t\t\t\t\t\t\n",
      "1  12 20 15 19\t14 21 16 12 6 \t2  0  12 3  7 \t\t\t\t\t\t\t\n",
      "\n"
     ]
    }
   ],
   "source": [
    "set data [struct::list filter [split \"7,4,9,5,11,17,23,2,0,14,21,24,10,16,13,6,15,25,12,22,18,20,8,19,3,26,1\n",
    "\n",
    "22 13 17 11  0\n",
    " 8  2 23  4 24\n",
    "21  9 14 16  7\n",
    " 6 10  3 18  5\n",
    " 1 12 20 15 19\n",
    "\n",
    " 3 15  0  2 22\n",
    " 9 18 13 17  5\n",
    "19  8  7 25 23\n",
    "20 11 10 24  4\n",
    "14 21 16 12  6\n",
    "\n",
    "14 21 17 24  4\n",
    "10 16 15  9 19\n",
    "18  8 23 26 20\n",
    "22 11 13  6  5\n",
    " 2  0 12  3  7\" \\n] {string length}]\n",
    "set boards_tmp [lassign $data test_numbers]; unset data;\n",
    "\n",
    "set test_numbers [split $test_numbers ,]\n",
    "\n",
    "set test_boards {}\n",
    "foreach {0 1 2 3 4} [struct::list mapfor r $boards_tmp { struct::list filter [split $r \" \"] {string length} }] {\n",
    "    set tmp [struct::matrix]\n",
    "    $tmp deserialize [list 5 5 [list $0 $1 $2 $3 $4]]\n",
    "    lappend test_boards $tmp\n",
    "}\n",
    "\n",
    "\n",
    "puts \"$test_numbers\"\n",
    "print_grid $test_boards"
   ]
  },
  {
   "cell_type": "code",
   "execution_count": 5,
   "id": "0eee0cca-c211-4731-aca1-a7119b1876bf",
   "metadata": {},
   "outputs": [
    {
     "data": {
      "text/plain": [
       "::get_winning"
      ]
     },
     "execution_count": 5,
     "metadata": {},
     "output_type": "execute_result"
    }
   ],
   "source": [
    "proc all { lst val } { expr {[lsearch -not $lst $val]==-1} } \n",
    "\n",
    "proc score { val board mark } {\n",
    "        set sum 0\n",
    "        foreach b [struct::list flatten [$board get rect 0 0 4 4]] m [struct::list flatten [$mark get rect 0 0 4 4]] {\n",
    "            incr sum [expr {$b*$m}]\n",
    "        }\n",
    "        expr { $val* $sum }\n",
    "    }\n",
    "    \n",
    "proc bingo_boards { boards } {\n",
    "    set res {}\n",
    "    foreach bb $boards {\n",
    "        set mark [struct::matrix]\n",
    "        set unit_r { 1 1 1 1 1 }\n",
    "        $mark deserialize [list 5 5 [list $unit_r $unit_r $unit_r $unit_r $unit_r]]\n",
    "        lappend res [list $bb $mark 0]\n",
    "    }\n",
    "    return $res\n",
    "}\n",
    "\n",
    "proc destroy_boards { boards } {\n",
    "    foreach bb $boards {\n",
    "        [lindex $bb 1] destroy\n",
    "    }\n",
    "}\n",
    "\n",
    "\n",
    "generator define get_winning { numbers bingo } {\n",
    "    set boards [bingo_boards $bingo]\n",
    "    generator finally destroy_boards $boards\n",
    "        \n",
    "    foreach val $numbers {\n",
    "        set winner {}\n",
    "        foreach bm $boards {\n",
    "            lassign $bm bb mm\n",
    "            set pos [$bb search all $val]\n",
    "            if { [llength $pos] > 0 } {\n",
    "                lassign $pos pos\n",
    "                lassign $pos col row\n",
    "                $mm set cell $col $row 0\n",
    "                if { [all [$mm get row $row] 0] || [all [$mm get column $col] 0] } {\n",
    "                    lappend winner $bm\n",
    "                }\n",
    "            }\n",
    "        }\n",
    "\n",
    "        if { $winner != {} } {\n",
    "            set true_win [lsearch -index 2 -all -inline -integer $winner 0]\n",
    "            generator yield [list $val $true_win $winner]\n",
    "            foreach tw $true_win {          \n",
    "                set to_exclude [lsearch -exact $boards $tw]\n",
    "                lset tw 2 1\n",
    "                lset boards $to_exclude $tw\n",
    "            }\n",
    "        }\n",
    "    }\n",
    "}"
   ]
  },
  {
   "cell_type": "code",
   "execution_count": 6,
   "id": "1ff8504c-cdc5-4b51-b6a8-08a2038402d0",
   "metadata": {},
   "outputs": [
    {
     "name": "stdout",
     "output_type": "stream",
     "text": [
      "first to win: 3 {{::matrix14 ::matrix117 0}} {{::matrix14 ::matrix117 0}}\n"
     ]
    }
   ],
   "source": [
    "set win [get_winning $numbers $boards]\n",
    "generator next $win res\n",
    "puts \"first to win: $res\""
   ]
  },
  {
   "cell_type": "code",
   "execution_count": 7,
   "id": "ba01f9e9-a7c5-4951-9cbc-6c825e0bc182",
   "metadata": {
    "tags": []
   },
   "outputs": [
    {
     "name": "stdout",
     "output_type": "stream",
     "text": [
      "1: 59. winner:0 33040 ::matrix46\tother:0 33040 ::matrix46\t-\n",
      "2: 13. winner:0 9867 ::matrix21\tother:0 9867 ::matrix21\t-\n",
      "3: 69. winner:0 42849 ::matrix54\tother:0 42849 ::matrix54\t-\n",
      "4: 83. winner:0 44986 ::matrix7\t0 33698 ::matrix9\tother:0 44986 ::matrix7\t0 33698 ::matrix9\t-\n",
      "5: 51. winner:0 29478 ::matrix30\tother:0 29478 ::matrix30\t-\n",
      "6: 64. winner:0 38400 ::matrix15\t0 38336 ::matrix76\t0 26880 ::matrix92\tother:0 38400 ::matrix15\t0 38336 ::matrix76\t0 26880 ::matrix92\t-\n",
      "7: 48. winner:other:1 17184 ::matrix9\t-\n",
      "8: 82. winner:0 42476 ::matrix73\tother:1 44936 ::matrix21\t1 35014 ::matrix46\t0 42476 ::matrix73\t-\n",
      "9: 7. winner:other:1 1883 ::matrix9\t-\n",
      "10: 49. winner:0 22246 ::matrix22\tother:0 22246 ::matrix22\t-\n",
      "11: 8. winner:0 5904 ::matrix27\t0 4688 ::matrix51\t0 5272 ::matrix89\tother:0 5904 ::matrix27\t0 4688 ::matrix51\t0 5272 ::matrix89\t-\n",
      "12: 36. winner:0 21564 ::matrix12\t0 15804 ::matrix60\t0 17784 ::matrix86\tother:0 21564 ::matrix12\t0 15804 ::matrix60\t0 17784 ::matrix86\t-\n",
      "13: 66. winner:0 31614 ::matrix32\t0 38874 ::matrix33\t0 47322 ::matrix100\tother:1 31416 ::matrix7\t0 31614 ::matrix32\t0 38874 ::matrix33\t0 47322 ::matrix100\t-\n",
      "14: 19. winner:0 13281 ::matrix43\t0 9462 ::matrix83\tother:0 13281 ::matrix43\t0 9462 ::matrix83\t-\n",
      "15: 0. winner:0 0 ::matrix23\t0 0 ::matrix82\t0 0 ::matrix88\tother:0 0 ::matrix23\t1 0 ::matrix46\t0 0 ::matrix82\t0 0 ::matrix88\t-\n",
      "16: 99. winner:0 50490 ::matrix48\tother:1 31284 ::matrix22\t0 50490 ::matrix48\t-\n",
      "17: 41. winner:0 23206 ::matrix61\t0 15416 ::matrix70\tother:1 16769 ::matrix15\t0 23206 ::matrix61\t0 15416 ::matrix70\t-\n",
      "18: 91. winner:0 58331 ::matrix34\t0 28665 ::matrix55\tother:0 58331 ::matrix34\t0 28665 ::matrix55\t1 36673 ::matrix76\t-\n",
      "19: 78. winner:0 39936 ::matrix11\t0 25740 ::matrix25\t0 40560 ::matrix87\t0 46956 ::matrix93\tother:0 39936 ::matrix11\t0 25740 ::matrix25\t0 40560 ::matrix87\t0 46956 ::matrix93\t-\n",
      "20: 42. winner:other:1 12096 ::matrix25\t1 18354 ::matrix32\t-\n",
      "21: 40. winner:0 15720 ::matrix4\tother:0 15720 ::matrix4\t-\n",
      "22: 62. winner:0 27466 ::matrix57\tother:0 27466 ::matrix57\t1 25234 ::matrix89\t-\n",
      "23: 63. winner:0 29106 ::matrix52\tother:1 16884 ::matrix4\t0 29106 ::matrix52\t1 18774 ::matrix76\t-\n",
      "24: 57. winner:0 27816 ::matrix68\tother:1 30096 ::matrix27\t1 17784 ::matrix48\t0 27816 ::matrix68\t-\n",
      "25: 39. winner:0 17238 ::matrix36\t0 15093 ::matrix59\t0 13494 ::matrix84\tother:0 17238 ::matrix36\t0 15093 ::matrix59\t0 13494 ::matrix84\t1 14352 ::matrix89\t1 8580 ::matrix92\t-\n",
      "26: 55. winner:0 22715 ::matrix13\t0 27885 ::matrix24\t0 15070 ::matrix62\t0 25080 ::matrix98\tother:0 22715 ::matrix13\t0 27885 ::matrix24\t1 17600 ::matrix32\t1 21340 ::matrix57\t0 15070 ::matrix62\t0 25080 ::matrix98\t-\n",
      "27: 47. winner:0 25756 ::matrix28\tother:1 17014 ::matrix15\t0 25756 ::matrix28\t-\n",
      "28: 29. winner:0 10933 ::matrix1\t0 12644 ::matrix6\t0 14268 ::matrix50\t0 14094 ::matrix64\tother:0 10933 ::matrix1\t0 12644 ::matrix6\t1 7221 ::matrix7\t1 7076 ::matrix48\t0 14268 ::matrix50\t0 14094 ::matrix64\t1 8845 ::matrix70\t1 8236 ::matrix89\t-\n",
      "29: 50. winner:0 25450 ::matrix31\t0 17400 ::matrix67\t0 22750 ::matrix71\t0 24850 ::matrix99\tother:1 12450 ::matrix11\t0 25450 ::matrix31\t1 9700 ::matrix48\t1 15600 ::matrix61\t0 17400 ::matrix67\t0 22750 ::matrix71\t1 20050 ::matrix82\t0 24850 ::matrix99\t-\n",
      "30: 58. winner:0 13050 ::matrix17\t0 18096 ::matrix63\tother:1 9280 ::matrix4\t0 13050 ::matrix17\t0 18096 ::matrix63\t-\n",
      "31: 34. winner:0 14348 ::matrix5\t0 16626 ::matrix66\t0 21488 ::matrix96\tother:0 14348 ::matrix5\t1 4454 ::matrix9\t1 8228 ::matrix22\t1 5746 ::matrix55\t0 16626 ::matrix66\t0 21488 ::matrix96\t-\n",
      "32: 27. winner:0 8748 ::matrix38\t0 11016 ::matrix53\t0 10827 ::matrix75\t0 12636 ::matrix85\tother:1 9450 ::matrix1\t0 8748 ::matrix38\t0 11016 ::matrix53\t1 8667 ::matrix67\t1 5022 ::matrix70\t0 10827 ::matrix75\t0 12636 ::matrix85\t1 11043 ::matrix86\t1 9315 ::matrix98\t-\n",
      "33: 43. winner:0 14534 ::matrix45\t0 6536 ::matrix49\t0 18662 ::matrix90\tother:1 16297 ::matrix5\t1 13588 ::matrix27\t0 14534 ::matrix45\t0 6536 ::matrix49\t1 18146 ::matrix50\t1 14878 ::matrix87\t0 18662 ::matrix90\t-\n",
      "34: 30. winner:0 11850 ::matrix37\t0 11610 ::matrix79\tother:0 11850 ::matrix37\t1 3660 ::matrix49\t1 7680 ::matrix59\t1 10590 ::matrix60\t1 6720 ::matrix61\t1 6300 ::matrix62\t1 13170 ::matrix73\t1 8040 ::matrix76\t0 11610 ::matrix79\t-\n",
      "35: 35. winner:0 15995 ::matrix8\t0 17465 ::matrix16\t0 14665 ::matrix74\tother:0 15995 ::matrix8\t1 11445 ::matrix12\t0 17465 ::matrix16\t1 10115 ::matrix38\t1 9135 ::matrix46\t1 5565 ::matrix48\t0 14665 ::matrix74\t-\n",
      "36: 22. winner:0 6226 ::matrix19\t0 6710 ::matrix69\tother:1 2376 ::matrix4\t1 6908 ::matrix13\t1 6600 ::matrix14\t0 6226 ::matrix19\t1 8206 ::matrix37\t0 6710 ::matrix69\t1 8338 ::matrix82\t1 7744 ::matrix86\t1 10648 ::matrix100\t-\n",
      "37: 28. winner:0 8960 ::matrix40\t0 8876 ::matrix44\tother:1 2884 ::matrix9\t1 8148 ::matrix21\t1 15232 ::matrix34\t0 8960 ::matrix40\t0 8876 ::matrix44\t1 8456 ::matrix53\t1 3948 ::matrix55\t1 8512 ::matrix71\t-\n",
      "38: 4. winner:0 1228 ::matrix10\t0 1380 ::matrix41\t0 1708 ::matrix58\t0 1360 ::matrix94\tother:0 1228 ::matrix10\t1 896 ::matrix23\t1 1476 ::matrix37\t0 1380 ::matrix41\t0 1708 ::matrix58\t1 1060 ::matrix63\t1 1488 ::matrix73\t0 1360 ::matrix94\t-\n",
      "39: 14. winner:0 6216 ::matrix81\t0 7252 ::matrix95\tother:1 1246 ::matrix9\t1 4746 ::matrix60\t1 2100 ::matrix70\t1 4914 ::matrix79\t0 6216 ::matrix81\t1 1722 ::matrix92\t0 7252 ::matrix95\t-\n",
      "40: 26. winner:0 8736 ::matrix26\t0 6942 ::matrix35\tother:1 5096 ::matrix11\t1 7826 ::matrix12\t1 6682 ::matrix19\t1 4264 ::matrix25\t0 8736 ::matrix26\t0 6942 ::matrix35\t1 4784 ::matrix61\t1 6214 ::matrix63\t1 6552 ::matrix67\t1 14118 ::matrix96\t-\n",
      "41: 32. winner:0 14624 ::matrix2\t0 7072 ::matrix47\t0 6976 ::matrix56\t0 10592 ::matrix77\t0 13952 ::matrix78\tother:0 14624 ::matrix2\t1 10144 ::matrix5\t1 11360 ::matrix6\t1 14688 ::matrix28\t1 13728 ::matrix31\t1 7520 ::matrix35\t1 10016 ::matrix41\t0 7072 ::matrix47\t1 3232 ::matrix48\t1 12032 ::matrix50\t1 3488 ::matrix55\t0 6976 ::matrix56\t1 6272 ::matrix59\t1 14048 ::matrix66\t1 9920 ::matrix68\t1 10912 ::matrix75\t0 10592 ::matrix77\t0 13952 ::matrix78\t1 10208 ::matrix79\t1 10624 ::matrix83\t-\n",
      "42: 10. winner:0 3620 ::matrix20\t0 3930 ::matrix42\tother:1 840 ::matrix4\t1 2830 ::matrix10\t1 2910 ::matrix12\t1 2010 ::matrix17\t0 3620 ::matrix20\t1 2610 ::matrix32\t1 2250 ::matrix35\t1 3100 ::matrix40\t0 3930 ::matrix42\t1 3000 ::matrix45\t1 1080 ::matrix49\t1 990 ::matrix55\t1 2160 ::matrix88\t1 4100 ::matrix90\t1 4030 ::matrix99\t-\n",
      "43: 88. winner:0 24728 ::matrix91\tother:1 20768 ::matrix1\t1 31592 ::matrix2\t1 23496 ::matrix6\t1 12232 ::matrix7\t1 18656 ::matrix14\t1 32120 ::matrix16\t1 18128 ::matrix26\t1 24112 ::matrix30\t1 21912 ::matrix37\t1 26840 ::matrix42\t1 18832 ::matrix53\t1 31504 ::matrix85\t1 18832 ::matrix87\t0 24728 ::matrix91\t-\n",
      "44: 46. winner:0 15824 ::matrix18\t0 21114 ::matrix39\t0 10166 ::matrix80\tother:1 10902 ::matrix10\t1 11868 ::matrix13\t1 7130 ::matrix17\t0 15824 ::matrix18\t1 7360 ::matrix26\t1 14950 ::matrix28\t1 17618 ::matrix31\t1 9338 ::matrix37\t0 21114 ::matrix39\t1 5842 ::matrix46\t0 10166 ::matrix80\t1 18308 ::matrix81\t1 11362 ::matrix84\t1 20148 ::matrix100\t-\n",
      "45: 65. winner:other:1 11180 ::matrix10\t1 12545 ::matrix13\t1 19500 ::matrix16\t1 14690 ::matrix21\t1 16315 ::matrix27\t1 13585 ::matrix30\t1 15925 ::matrix40\t1 9685 ::matrix53\t1 14820 ::matrix60\t1 9425 ::matrix62\t1 21320 ::matrix66\t1 14430 ::matrix69\t1 17940 ::matrix75\t1 16510 ::matrix79\t1 15145 ::matrix86\t1 8190 ::matrix89\t1 29445 ::matrix95\t-\n",
      "46: 90. winner:other:1 13140 ::matrix1\t1 34740 ::matrix34\t1 21870 ::matrix36\t1 33210 ::matrix39\t1 20430 ::matrix44\t1 8460 ::matrix61\t1 4950 ::matrix62\t1 13410 ::matrix63\t1 29790 ::matrix64\t1 14580 ::matrix67\t1 11880 ::matrix69\t1 32670 ::matrix95\t1 40770 ::matrix96\t1 31320 ::matrix100\t-\n",
      "47: 76. winner:0 31996 ::matrix29\t0 25080 ::matrix97\tother:1 14516 ::matrix6\t1 7296 ::matrix10\t1 8892 ::matrix13\t1 4256 ::matrix25\t1 18924 ::matrix28\t0 31996 ::matrix29\t1 10108 ::matrix30\t1 14060 ::matrix32\t1 22268 ::matrix39\t1 17404 ::matrix42\t1 1900 ::matrix48\t1 19152 ::matrix66\t1 6536 ::matrix67\t1 17328 ::matrix71\t1 10488 ::matrix87\t0 25080 ::matrix97\t-\n",
      "48: 38. winner:0 10640 ::matrix72\tother:1 5814 ::matrix6\t1 6612 ::matrix14\t1 4446 ::matrix17\t1 6232 ::matrix22\t1 6080 ::matrix23\t1 5586 ::matrix32\t1 7106 ::matrix35\t1 4218 ::matrix53\t1 6840 ::matrix56\t1 6004 ::matrix59\t0 10640 ::matrix72\t1 3800 ::matrix87\t1 9234 ::matrix91\t-\n",
      "49: 6. winner:other:1 612 ::matrix1\t1 1866 ::matrix5\t1 798 ::matrix7\t1 1506 ::matrix19\t1 1320 ::matrix21\t1 924 ::matrix23\t1 1602 ::matrix24\t1 1326 ::matrix44\t1 984 ::matrix51\t1 1980 ::matrix54\t1 1044 ::matrix56\t1 1950 ::matrix64\t1 756 ::matrix69\t1 864 ::matrix70\t1 1950 ::matrix74\t1 1290 ::matrix80\t1 1668 ::matrix81\t1 1566 ::matrix83\t1 1260 ::matrix88\t1 1944 ::matrix97\t-\n",
      "50: 71. winner:other:1 1775 ::matrix10\t1 16685 ::matrix18\t1 6603 ::matrix22\t1 6319 ::matrix26\t1 24850 ::matrix29\t1 9727 ::matrix38\t1 10650 ::matrix44\t1 10650 ::matrix47\t1 15407 ::matrix50\t1 18389 ::matrix54\t1 8449 ::matrix68\t1 8733 ::matrix76\t1 16827 ::matrix94\t-\n",
      "51: 67. winner:other:1 16348 ::matrix5\t1 4422 ::matrix7\t1 7169 ::matrix14\t1 13132 ::matrix15\t1 12328 ::matrix19\t1 1742 ::matrix22\t1 13400 ::matrix24\t1 7437 ::matrix28\t1 18961 ::matrix29\t1 4690 ::matrix38\t1 11524 ::matrix40\t1 4020 ::matrix46\t1 10050 ::matrix50\t1 18693 ::matrix52\t1 12864 ::matrix54\t1 14740 ::matrix58\t1 14271 ::matrix72\t1 17286 ::matrix74\t1 3752 ::matrix76\t1 17688 ::matrix77\t1 12998 ::matrix83\t1 6030 ::matrix86\t1 2211 ::matrix87\t1 9581 ::matrix88\t1 3953 ::matrix89\t1 12127 ::matrix95\t-\n",
      "52: 44. winner:0 10956 ::matrix3\tother:1 10516 ::matrix2\t0 10956 ::matrix3\t1 10868 ::matrix8\t1 6688 ::matrix11\t1 1716 ::matrix23\t1 8580 ::matrix34\t1 5016 ::matrix42\t1 4664 ::matrix44\t1 5720 ::matrix56\t1 1848 ::matrix67\t1 9680 ::matrix77\t1 660 ::matrix89\t1 18656 ::matrix93\t1 6028 ::matrix95\t1 11836 ::matrix99\t1 10252 ::matrix100\t-\n",
      "53: 68. winner:other:1 12308 ::matrix3\t1 5780 ::matrix6\t1 1428 ::matrix9\t1 3332 ::matrix13\t1 2652 ::matrix14\t1 15776 ::matrix16\t1 3332 ::matrix17\t1 1428 ::matrix26\t1 11628 ::matrix29\t1 15300 ::matrix31\t1 11900 ::matrix36\t1 1020 ::matrix37\t1 26384 ::matrix43\t1 11220 ::matrix45\t1 2720 ::matrix49\t1 14348 ::matrix52\t1 4216 ::matrix56\t1 10336 ::matrix58\t1 5168 ::matrix70\t1 10880 ::matrix71\t1 5100 ::matrix79\t1 9452 ::matrix81\t1 7004 ::matrix84\t1 19720 ::matrix85\t1 18088 ::matrix90\t1 4692 ::matrix95\t1 21624 ::matrix96\t1 11220 ::matrix100\t-\n",
      "54: 86. winner:other:1 9460 ::matrix15\t1 12556 ::matrix16\t1 12814 ::matrix18\t1 11266 ::matrix20\t1 2150 ::matrix28\t1 7310 ::matrix29\t1 11954 ::matrix31\t1 5246 ::matrix32\t1 9374 ::matrix34\t1 5504 ::matrix47\t1 10750 ::matrix52\t1 9116 ::matrix54\t1 20554 ::matrix64\t1 11524 ::matrix77\t1 11094 ::matrix80\t1 14706 ::matrix82\t1 15480 ::matrix90\t1 23220 ::matrix93\t1 21414 ::matrix98\t1 6794 ::matrix100\t-\n",
      "55: 25. winner:other:1 3900 ::matrix3\t1 5475 ::matrix5\t1 0 ::matrix10\t1 600 ::matrix13\t1 2125 ::matrix15\t1 600 ::matrix17\t1 3100 ::matrix18\t1 2650 ::matrix20\t1 4875 ::matrix21\t1 25 ::matrix22\t1 2675 ::matrix24\t1 625 ::matrix25\t1 0 ::matrix28\t1 1125 ::matrix38\t1 4925 ::matrix39\t1 2225 ::matrix42\t1 975 ::matrix47\t1 0 ::matrix48\t1 375 ::matrix49\t1 2500 ::matrix52\t1 5600 ::matrix57\t1 2525 ::matrix69\t1 3025 ::matrix74\t1 2600 ::matrix80\t1 3650 ::matrix82\t1 1950 ::matrix84\t1 3875 ::matrix90\t1 1450 ::matrix94\t1 5700 ::matrix97\t-\n",
      "56: 21. winner:0 6594 ::matrix65\tother:1 2835 ::matrix3\t1 945 ::matrix7\t1 0 ::matrix9\t1 1785 ::matrix20\t1 0 ::matrix26\t1 2352 ::matrix30\t1 5103 ::matrix33\t1 3234 ::matrix36\t1 504 ::matrix38\t1 2247 ::matrix40\t1 4956 ::matrix41\t1 378 ::matrix47\t1 1890 ::matrix53\t1 1785 ::matrix54\t1 4263 ::matrix57\t1 4347 ::matrix60\t0 6594 ::matrix65\t1 2919 ::matrix71\t1 2100 ::matrix74\t1 5292 ::matrix78\t1 1134 ::matrix79\t1 2478 ::matrix81\t1 1638 ::matrix88\t1 5229 ::matrix93\t1 4431 ::matrix96\t1 4788 ::matrix98\t-\n",
      "57: 24. winner:other:1 4848 ::matrix8\t1 3072 ::matrix11\t1 0 ::matrix13\t1 360 ::matrix14\t1 0 ::matrix17\t1 2400 ::matrix18\t1 1464 ::matrix20\t1 360 ::matrix23\t1 24 ::matrix25\t1 1464 ::matrix29\t1 5256 ::matrix33\t1 3912 ::matrix35\t1 3120 ::matrix36\t1 0 ::matrix38\t1 8136 ::matrix43\t1 3384 ::matrix45\t1 360 ::matrix46\t1 4392 ::matrix60\t1 6960 ::matrix65\t1 432 ::matrix67\t1 2280 ::matrix68\t1 4536 ::matrix72\t1 4200 ::matrix75\t1 2640 ::matrix77\t1 5472 ::matrix78\t1 2256 ::matrix81\t1 1296 ::matrix84\t1 1464 ::matrix92\t1 816 ::matrix94\t1 1080 ::matrix95\t-\n",
      "58: 56. winner:other:1 2576 ::matrix1\t1 10248 ::matrix2\t1 4032 ::matrix11\t1 13160 ::matrix12\t1 10080 ::matrix41\t1 4760 ::matrix45\t1 2520 ::matrix69\t1 7448 ::matrix72\t1 7112 ::matrix73\t1 0 ::matrix76\t1 3024 ::matrix77\t1 10808 ::matrix93\t1 8680 ::matrix96\t-\n",
      "59: 94. winner:other:1 8366 ::matrix2\t1 4230 ::matrix21\t1 14758 ::matrix27\t1 1692 ::matrix30\t1 1410 ::matrix34\t1 9682 ::matrix39\t1 8084 ::matrix41\t1 23030 ::matrix43\t1 8366 ::matrix60\t1 0 ::matrix61\t1 13630 ::matrix64\t1 13160 ::matrix65\t1 4230 ::matrix71\t1 3102 ::matrix73\t1 0 ::matrix81\t1 9400 ::matrix83\t1 16168 ::matrix85\t1 5734 ::matrix90\t1 9306 ::matrix93\t1 5734 ::matrix96\t1 12596 ::matrix98\t1 16450 ::matrix99\t-\n",
      "60: 18. winner:other:1 3312 ::matrix8\t1 972 ::matrix11\t1 2502 ::matrix27\t1 0 ::matrix30\t1 1530 ::matrix39\t1 0 ::matrix47\t1 2628 ::matrix51\t1 2412 ::matrix58\t1 0 ::matrix67\t1 1386 ::matrix68\t1 270 ::matrix73\t1 1548 ::matrix80\t1 270 ::matrix87\t1 1080 ::matrix88\t1 3150 ::matrix91\t1 288 ::matrix94\t1 1098 ::matrix100\t-\n",
      "61: 89. winner:other:1 0 ::matrix2\t1 11570 ::matrix5\t1 12994 ::matrix12\t1 4094 ::matrix19\t1 11570 ::matrix33\t1 0 ::matrix42\t1 5429 ::matrix50\t1 89 ::matrix53\t1 10146 ::matrix57\t1 4005 ::matrix58\t1 6141 ::matrix59\t1 0 ::matrix60\t1 12371 ::matrix66\t1 7654 ::matrix75\t1 12371 ::matrix78\t1 7654 ::matrix91\t1 10769 ::matrix97\t1 4005 ::matrix98\t-\n",
      "62: 61. winner:other:1 5185 ::matrix12\t1 5185 ::matrix16\t1 0 ::matrix20\t1 2806 ::matrix24\t1 0 ::matrix29\t1 0 ::matrix32\t1 2806 ::matrix40\t1 11224 ::matrix43\t1 2745 ::matrix44\t1 0 ::matrix50\t1 61 ::matrix56\t1 4270 ::matrix63\t1 976 ::matrix68\t1 915 ::matrix70\t1 3294 ::matrix72\t1 5185 ::matrix82\t1 0 ::matrix90\t1 0 ::matrix96\t1 3660 ::matrix97\t1 6954 ::matrix99\t1 0 ::matrix100\t-\n",
      "63: 15. winner:other:1 0 ::matrix14\t1 1275 ::matrix18\t1 0 ::matrix23\t1 0 ::matrix34\t1 810 ::matrix35\t1 0 ::matrix37\t1 0 ::matrix46\t1 0 ::matrix49\t1 1485 ::matrix57\t1 810 ::matrix59\t1 825 ::matrix63\t1 1950 ::matrix64\t1 15 ::matrix68\t1 0 ::matrix70\t1 0 ::matrix73\t1 1275 ::matrix74\t1 2085 ::matrix85\t1 0 ::matrix87\t1 675 ::matrix88\t1 0 ::matrix89\t1 690 ::matrix92\t1 15 ::matrix94\t1 675 ::matrix97\t1 1485 ::matrix99\t-\n",
      "64: 1. winner:other:1 45 ::matrix1\t1 45 ::matrix3\t1 45 ::matrix4\t1 45 ::matrix19\t1 0 ::matrix22\t1 45 ::matrix24\t1 0 ::matrix25\t1 45 ::matrix40\t1 85 ::matrix41\t1 130 ::matrix51\t1 99 ::matrix52\t1 0 ::matrix53\t1 0 ::matrix56\t1 54 ::matrix62\t1 54 ::matrix63\t1 139 ::matrix65\t1 0 ::matrix68\t1 85 ::matrix75\t1 85 ::matrix80\t1 99 ::matrix83\t1 45 ::matrix86\t1 85 ::matrix91\t1 45 ::matrix92\t1 0 ::matrix94\t-\n",
      "65: 45. winner:other:1 0 ::matrix1\t1 0 ::matrix3\t1 0 ::matrix4\t1 3825 ::matrix5\t1 0 ::matrix7\t1 6255 ::matrix8\t1 0 ::matrix19\t1 0 ::matrix21\t1 0 ::matrix24\t1 3825 ::matrix33\t1 3825 ::matrix36\t1 0 ::matrix40\t1 6255 ::matrix43\t1 0 ::matrix44\t1 3825 ::matrix51\t1 2430 ::matrix52\t1 2430 ::matrix55\t1 2430 ::matrix57\t1 0 ::matrix58\t1 3825 ::matrix64\t1 0 ::matrix69\t1 0 ::matrix71\t1 2430 ::matrix83\t1 0 ::matrix86\t1 0 ::matrix88\t1 0 ::matrix92\t1 2430 ::matrix93\t1 0 ::matrix95\t1 0 ::matrix97\t1 0 ::matrix98\t1 2430 ::matrix99\t-\n",
      "66: 54. winner:other:1 4590 ::matrix8\t1 0 ::matrix11\t1 4590 ::matrix27\t1 4590 ::matrix31\t1 0 ::matrix35\t1 4590 ::matrix43\t1 0 ::matrix52\t1 0 ::matrix55\t1 0 ::matrix57\t1 0 ::matrix59\t1 0 ::matrix62\t1 0 ::matrix63\t1 4590 ::matrix65\t1 4590 ::matrix66\t1 0 ::matrix72\t1 0 ::matrix77\t1 4590 ::matrix78\t1 0 ::matrix79\t1 0 ::matrix83\t1 0 ::matrix84\t1 4590 ::matrix85\t1 0 ::matrix93\t1 0 ::matrix99\t-\n",
      "67: 85. winner:other:1 0 ::matrix5\t1 0 ::matrix6\t1 0 ::matrix8\t1 0 ::matrix12\t1 0 ::matrix15\t1 0 ::matrix16\t1 0 ::matrix18\t1 0 ::matrix27\t1 0 ::matrix31\t1 0 ::matrix33\t1 0 ::matrix36\t1 0 ::matrix39\t1 0 ::matrix41\t1 0 ::matrix43\t1 0 ::matrix45\t1 0 ::matrix51\t1 0 ::matrix54\t1 0 ::matrix64\t1 0 ::matrix65\t1 0 ::matrix66\t1 0 ::matrix74\t1 0 ::matrix75\t1 0 ::matrix78\t1 0 ::matrix80\t1 0 ::matrix82\t1 0 ::matrix85\t1 0 ::matrix91\t-\n"
     ]
    }
   ],
   "source": [
    "proc print_bingo { val board } {\n",
    "    if { $board == {} } { return \"nada\"  } \n",
    "    lassign $board bb mm removed\n",
    "    list $removed [score $val $bb $mm] $bb\n",
    "}\n",
    "\n",
    "set cnt 1\n",
    "generator foreach wn $win {\n",
    "    lassign $wn val head_win brs\n",
    "    puts -nonewline \"$cnt: $val. winner:\"\n",
    "    foreach m $head_win {\n",
    "        puts -nonewline \"[print_bingo $val $m]\\t\"\n",
    "    }\n",
    "    puts -nonewline \"other:\"\n",
    "    foreach m $brs {\n",
    "        puts -nonewline \"[print_bingo $val $m]\\t\"\n",
    "    }\n",
    "    puts -\n",
    "    incr cnt\n",
    "}"
   ]
  },
  {
   "cell_type": "code",
   "execution_count": 8,
   "id": "0968738a-4aff-4b4b-ae52-f504948dced8",
   "metadata": {},
   "outputs": [
    {
     "name": "stdout",
     "output_type": "stream",
     "text": [
      "\u001b[46m 1 \u001b[0m10\u001b[0m\n"
     ]
    }
   ],
   "source": [
    "puts \"\\033\\[46m 1 \\033\\[0m10\\033\\[0m\""
   ]
  },
  {
   "cell_type": "code",
   "execution_count": null,
   "id": "5667496c-e098-4eb6-8142-e4e7f88d1418",
   "metadata": {},
   "outputs": [],
   "source": []
  }
 ],
 "metadata": {
  "kernelspec": {
   "display_name": "Tcl",
   "language": "tcl",
   "name": "tcljupyter"
  },
  "language_info": {
   "file_extension": ".tcl",
   "mimetype": "txt/x-tcl",
   "name": "tcl",
   "version": "8.6.11"
  }
 },
 "nbformat": 4,
 "nbformat_minor": 5
}
