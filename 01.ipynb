{
 "cells": [
  {
   "cell_type": "markdown",
   "id": "5efcbd02-493c-410d-b2ea-234bc9109a09",
   "metadata": {},
   "source": [
    "# day one\n",
    "## part one\n",
    "sonar sweep, count the time the depth increases"
   ]
  },
  {
   "cell_type": "code",
   "execution_count": 1,
   "id": "5ca415b1-185b-4814-b989-b864663dee3a",
   "metadata": {},
   "outputs": [
    {
     "data": {
      "text/plain": [
       "8.6.11"
      ]
     },
     "execution_count": 1,
     "metadata": {},
     "output_type": "execute_result"
    }
   ],
   "source": [
    "package require Tcl 8.5 "
   ]
  },
  {
   "cell_type": "code",
   "execution_count": 2,
   "id": "5dc7d720-d0fd-42e2-b6cb-3eeedf020d4a",
   "metadata": {},
   "outputs": [
    {
     "name": "stdout",
     "output_type": "stream",
     "text": [
      "sonar data in a list\n"
     ]
    }
   ],
   "source": [
    "set fl [open 01input]; set data [read $fl]; close $fl\n",
    "set sonar [split $data \\n]\n",
    "puts \"sonar data in a list\""
   ]
  },
  {
   "cell_type": "code",
   "execution_count": 3,
   "id": "ab0bff7d-d4a0-45a2-9ade-50e82166788a",
   "metadata": {},
   "outputs": [
    {
     "name": "stdout",
     "output_type": "stream",
     "text": [
      "sonar data increased 1676 times\n"
     ]
    }
   ],
   "source": [
    "set incr_count 0\n",
    "for {set x 1} {$x< [llength $sonar]} {incr x} {\n",
    "    if { [lindex $sonar $x-1] < [lindex $sonar $x] } {\n",
    "        incr incr_count\n",
    "    }\n",
    "}\n",
    "puts \"sonar data increased $incr_count times\""
   ]
  },
  {
   "cell_type": "markdown",
   "id": "7c6c0e57-9805-4901-8891-068e18b054b6",
   "metadata": {},
   "source": [
    "## part two\n",
    "count the time a __sliding window of 3__ increases respect previous sliding window"
   ]
  },
  {
   "cell_type": "code",
   "execution_count": 4,
   "id": "f9ea4943-5d9d-4969-9cef-e9d0721202d6",
   "metadata": {},
   "outputs": [
    {
     "name": "stdout",
     "output_type": "stream",
     "text": [
      "lindex call: 210, window sum: 595\n"
     ]
    }
   ],
   "source": [
    "proc wson {lst i} {\n",
    "    expr {[lindex $lst $i] + [lindex $lst $i+1] + [lindex $lst $i+2]}\n",
    "}\n",
    "puts \"lindex call: [lindex $sonar 1+2], window sum: [wson $sonar 0]\""
   ]
  },
  {
   "cell_type": "code",
   "execution_count": 5,
   "id": "fc55f415-d962-4a30-b593-2b88f43814f9",
   "metadata": {},
   "outputs": [
    {
     "name": "stdout",
     "output_type": "stream",
     "text": [
      "sonar data increased 1706 times in sliding window\n"
     ]
    }
   ],
   "source": [
    "set incr_win_count 0\n",
    "for {set x 0} {$x < ([llength $sonar]-4)} {incr x} {\n",
    "    set xn [expr {$x+1}]\n",
    "    if { [wson $sonar $x] < [wson $sonar $xn] } {\n",
    "        incr incr_win_count\n",
    "    }\n",
    "}\n",
    "puts \"sonar data increased $incr_win_count times in sliding window\""
   ]
  }
 ],
 "metadata": {
  "kernelspec": {
   "display_name": "Tcl",
   "language": "tcl",
   "name": "tcljupyter"
  },
  "language_info": {
   "file_extension": ".tcl",
   "mimetype": "txt/x-tcl",
   "name": "tcl",
   "version": "8.6.11"
  }
 },
 "nbformat": 4,
 "nbformat_minor": 5
}
