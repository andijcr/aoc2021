{
 "cells": [
  {
   "cell_type": "markdown",
   "id": "4b1a74ab-bf8d-4e0d-917b-a8fa4b727472",
   "metadata": {},
   "source": [
    "# Day 14\n",
    "## part one\n",
    "polymerization, with a trick"
   ]
  },
  {
   "cell_type": "code",
   "execution_count": 1,
   "id": "8f508fd9-81d5-4ab2-a7cc-7487b6204a47",
   "metadata": {},
   "outputs": [
    {
     "data": {
      "text/plain": [
       "8.6.11"
      ]
     },
     "execution_count": 1,
     "metadata": {},
     "output_type": "execute_result"
    }
   ],
   "source": [
    "package require Tcl 8.5"
   ]
  },
  {
   "cell_type": "code",
   "execution_count": 2,
   "id": "eb59caca-38aa-4a12-98e2-da1d96e1d9c1",
   "metadata": {},
   "outputs": [
    {
     "data": {
      "text/plain": [
       "1.1.6"
      ]
     },
     "execution_count": 2,
     "metadata": {},
     "output_type": "execute_result"
    }
   ],
   "source": [
    "package require struct::list\n",
    "package require math::linearalgebra"
   ]
  },
  {
   "cell_type": "code",
   "execution_count": 3,
   "id": "e926fc2e-2cfa-4fc1-9e22-1a6af829e7d2",
   "metadata": {},
   "outputs": [
    {
     "name": "stdout",
     "output_type": "stream",
     "text": [
      "0 1 0 0 0 0 0 1 0 0 0 1 0 0 0 0 1 0 \n",
      "\n",
      "0 1 0 0 0 1 0 0 0 0 0 0 0 0 0 0 0 0 \n",
      "1 0 0 0 0 0 1 0 0 0 0 0 0 0 0 0 0 0 \n",
      "1 0 1 0 0 0 0 0 0 0 0 0 0 0 0 0 0 0 \n",
      "0 0 1 0 0 0 0 0 0 0 0 0 0 0 0 0 0 0 \n",
      "0 0 0 1 0 0 0 0 0 0 0 0 0 0 0 0 0 0 \n",
      "0 0 0 1 0 0 0 0 0 0 0 0 0 0 0 0 0 0 \n",
      "0 1 0 0 0 0 0 0 1 0 0 0 0 0 0 0 0 0 \n",
      "0 0 0 0 0 1 0 0 0 0 0 1 0 0 0 1 0 0 \n",
      "0 0 0 0 1 0 1 0 0 0 0 0 0 0 0 0 0 0 \n",
      "0 0 0 0 0 0 0 1 1 1 0 0 0 0 0 0 0 0 \n",
      "0 0 0 0 1 0 0 0 0 0 1 1 0 0 0 1 0 0 \n",
      "0 0 0 0 0 0 0 0 0 0 0 0 0 0 0 0 0 0 \n",
      "0 0 0 0 0 0 0 1 0 0 0 0 1 1 0 0 0 0 \n",
      "0 0 0 0 0 0 0 0 0 1 0 0 1 0 1 0 0 0 \n",
      "0 0 0 0 0 0 0 0 0 0 0 0 0 1 1 0 0 0 \n",
      "0 0 0 0 0 0 0 0 0 0 1 0 0 0 0 0 0 0 \n",
      "0 0 0 0 0 0 0 0 0 0 0 0 0 0 0 0 1 0 \n",
      "0 0 0 0 0 0 0 0 0 0 0 0 0 0 0 0 1 0 \n",
      "\n",
      "CH CB BH HH HN NH HB NC HC BC CN NN NB BB BN CC B% %%\n"
     ]
    }
   ],
   "source": [
    "set tmp [struct::list filter [split \"NNCB\n",
    "\n",
    "CH -> B\n",
    "HH -> N\n",
    "CB -> H\n",
    "NH -> C\n",
    "HB -> C\n",
    "HC -> B\n",
    "HN -> C\n",
    "NN -> C\n",
    "BH -> H\n",
    "NC -> B\n",
    "NB -> B\n",
    "BN -> B\n",
    "BB -> N\n",
    "BC -> B\n",
    "CC -> N\n",
    "CN -> C\" \\n] {string length} ]\n",
    "\n",
    "proc make_transition_matrix { pattern rulelist outmatrix outvector outmapping } {\n",
    "    lappend rulelist \"[string index $pattern end]% -> %\"\n",
    "    set pattern $pattern%\n",
    "\n",
    "    upvar $outmapping map\n",
    "    set map {}\n",
    "    set tmp_mat {}\n",
    "    foreach r $rulelist {\n",
    "        lassign [split $r {-> }] rule _ _ _ prod \n",
    "        lassign [split $rule {}] pre post\n",
    "        set row {}\n",
    "        foreach atom [list $rule $pre$prod $prod$post] {\n",
    "            set idx [lsearch -exact $map $atom]\n",
    "            if { $idx < 0 } { lappend map $atom; set idx [expr {[llength $map]-1}] }\n",
    "            lappend row $idx\n",
    "        }\n",
    "        lappend tmp_mat $row\n",
    "    }\n",
    "\n",
    "\n",
    "    upvar $outvector vec\n",
    "    set vec [make_input_vector $pattern $map]\n",
    "\n",
    "\n",
    "    set tmp_mat [lsort -integer -index 0 $tmp_mat]\n",
    "    set cardinality [llength $vec]\n",
    "    upvar $outmatrix mat\n",
    "    set mat [math::linearalgebra::mkMatrix $cardinality $cardinality 0]\n",
    "    for { set i 0 } { $i < $cardinality } { incr i } {\n",
    "        set pre_production [lsearch -exact -all -inline -index 1 $tmp_mat $i]\n",
    "        set post_production [lsearch -exact -all -inline -index 2 $tmp_mat $i]\n",
    "        foreach precursor [list {*}$pre_production {*}$post_production] {\n",
    "            lassign $precursor col\n",
    "            math::linearalgebra::setelem mat $i $col [expr {[math::linearalgebra::getelem $mat $i $col] +1}]\n",
    "        }\n",
    "    }\n",
    "}\n",
    "\n",
    "proc make_input_vector { pattern mapping } {\n",
    "    set card [llength $mapping]\n",
    "    set vec [lrepeat $card 0]\n",
    "    for { set i 0 } { $i < ([string length $pattern] -1)} {incr i} {\n",
    "        set pair [string range $pattern $i [expr {$i +1}]]\n",
    "        set idx [lsearch -exact $mapping $pair]\n",
    "        lset vec $idx [expr { [lindex $vec $idx] + 1}]\n",
    "    }\n",
    "    return $vec\n",
    "}\n",
    "\n",
    "proc letters_population { state_vec mapping } {\n",
    "    set pop [dict create]\n",
    "    set letters [split [join $mapping \"\"] {}]\n",
    "    foreach l $letters {\n",
    "        dict set pop $l 0\n",
    "    }\n",
    "    foreach s $state_vec m $mapping {\n",
    "        lassign [split $m {}] l\n",
    "        dict incr pop $l [expr {int($s)}]\n",
    "    }\n",
    "\n",
    "    set res_pop {}\n",
    "    dict for {l s} $pop {\n",
    "        if { $l == {%} } { continue }\n",
    "        lappend res_pop [list $l $s]\n",
    "    }\n",
    "\n",
    "    lsort -integer -index 1 $res_pop\n",
    "}\n",
    "\n",
    "make_transition_matrix [lindex $tmp 0] [lrange $tmp 1 end] test_matrix test_pattern test_mapping\n",
    "puts \"$test_pattern \\n\\n[math::linearalgebra::show $test_matrix {%1.0f}]\\n$test_mapping\""
   ]
  },
  {
   "cell_type": "code",
   "execution_count": 4,
   "id": "4494a4ec-a232-45d2-aa65-ca57373e2aa9",
   "metadata": {},
   "outputs": [],
   "source": [
    "proc matpower { mat intpow } {\n",
    "    if { $intpow <= 0 } { error \"sorry only positive\" }\n",
    "    set res $mat\n",
    "    for { set i 0 } { $i < $intpow } { incr i } {\n",
    "        set res [::math::linearalgebra::matmul $mat $res]\n",
    "    }\n",
    "    return $res\n",
    "}"
   ]
  },
  {
   "cell_type": "code",
   "execution_count": 7,
   "id": "e676a998-ecc4-43ed-8130-0f056669a568",
   "metadata": {},
   "outputs": [
    {
     "name": "stdout",
     "output_type": "stream",
     "text": [
      "{C 298} {H 161} {B 1749} {N 865}\n",
      "21.0 115.0 81.0 32.0 27.0 27.0 26.0 42.0 76.0 120.0 102.0 0.0 796.0 812.0 735.0 60.0 1.0 1.0\n",
      "CH CB BH HH HN NH HB NC HC BC CN NN NB BB BN CC B% %%\n",
      "{H 161} {C 298} {N 865} {B 1749}\n",
      "1588\n"
     ]
    }
   ],
   "source": [
    "set test_state [math::linearalgebra::matmul [matpower $test_matrix 9] $test_pattern]\n",
    "set pop [letters_population $test_state $test_mapping]\n",
    "set final_score [expr { [lindex $pop end 1] - [lindex $pop 0 1] }]\n",
    "puts \"$test_state\\n$test_mapping\\n$pop\\n$final_score\""
   ]
  },
  {
   "cell_type": "code",
   "execution_count": 10,
   "id": "e05c1bec-0d05-47f2-a1c0-c79e5ca696d5",
   "metadata": {},
   "outputs": [
    {
     "name": "stdout",
     "output_type": "stream",
     "text": [
      "{N 3108} {S 1749} {H 2184} {F 1522} {O 506} {P 2528} {C 2366} {V 1492} {K 2472} {B 1530}\n",
      "106.0 187.0 572.0 0.0 61.0 0.0 42.0 472.0 30.0 704.0 627.0 262.0 288.0 249.0 187.0 285.0 202.0 398.0 218.0 52.0 21.0 106.0 115.0 673.0 362.0 301.0 655.0 153.0 0.0 0.0 243.0 1.0 191.0 441.0 240.0 316.0 442.0 0.0 371.0 279.0 212.0 126.0 0.0 91.0 799.0 135.0 66.0 43.0 144.0 545.0 0.0 319.0 244.0 0.0 1.0 193.0 281.0 266.0 152.0 143.0 124.0 367.0 597.0 449.0 297.0 568.0 236.0 0.0 291.0 150.0 246.0 191.0 224.0 33.0 231.0 515.0 0.0 31.0 116.0 104.0 0.0 265.0 278.0 113.0 101.0 45.0 45.0 0.0 0.0 0.0 38.0 0.0 0.0 126.0 0.0 0.0 0.0 0.0 63.0 0.0 1.0 1.0\n",
      "{O 506} {V 1492} {F 1522} {B 1530} {S 1749} {H 2184} {C 2366} {K 2472} {P 2528} {N 3108}\n",
      "2602\n"
     ]
    }
   ],
   "source": [
    "set fl [open 14input]\n",
    "set input [struct::list filter [split [read $fl] \\n] {string length} ]; close $fl\n",
    "\n",
    "make_transition_matrix [lindex $input 0] [lrange $input 1 end] matrix pattern mapping\n",
    "set state [math::linearalgebra::matmul [matpower $matrix 9] $pattern]\n",
    "set pop [letters_population $state $mapping]\n",
    "set final_score [expr { [lindex $pop end 1] - [lindex $pop 0 1] }]\n",
    "puts \"$state\\n$pop\\n$final_score\""
   ]
  },
  {
   "cell_type": "markdown",
   "id": "b95d7408-2637-44de-be29-5e6b0e7baa90",
   "metadata": {},
   "source": [
    "## part two\n",
    "now do 40 iterations"
   ]
  },
  {
   "cell_type": "code",
   "execution_count": 12,
   "id": "5e15fba9-9b05-45a2-9fe4-ef9550935a76",
   "metadata": {},
   "outputs": [
    {
     "name": "stdout",
     "output_type": "stream",
     "text": [
      "{N 3411547316650} {S 1937055921414} {H 2318406267841} {F 1541633298717} {O 468661394477} {P 2671034416074} {C 2481750112848} {V 1723833896052} {K 2711448364276} {B 1625349939396}\n",
      "111670513583.0 166880869144.0 578738714182.0 0.0 53828677285.0 0.0 32474287045.0 479155339978.0 32472731454.0 854148914482.0 717900359984.0 273045427200.0 298734179439.0 263137620018.0 186686866432.0 272521341070.0 186693860981.0 446682268179.0 223341832607.0 50258346474.0 25130845619.0 93349301418.0 100504821477.0 701156286055.0 380373609258.0 384414096440.0 768830183551.0 192208496422.0 0.0 0.0 258135361096.0 1.0 204695272551.0 446872586009.0 253231339868.0 324424664588.0 495208555465.0 0.0 399505106657.0 316454605764.0 238362708423.0 158226879683.0 0.0 76071465329.0 871199462408.0 129367848882.0 86248055732.0 38035057158.0 136261707546.0 632906301131.0 0.0 320546852560.0 258134500917.0 0.0 1.0 190186507404.0 289368214190.0 306798803545.0 160272545328.0 144683368152.0 145070293314.0 387864017417.0 700917183135.0 510731319058.0 350458773730.0 581662391345.0 228221564562.0 0.0 351470000507.0 175735608737.0 264104091356.0 201977989115.0 222091902124.0 26914422168.0 264103199806.0 534907991726.0 0.0 25127500855.0 107657268266.0 100988747475.0 0.0 280020011360.0 272975249269.0 119181713680.0 102331715251.0 59590475754.0 59590475754.0 0.0 0.0 0.0 43125883963.0 0.0 0.0 114110018111.0 0.0 0.0 0.0 0.0 50253559741.0 0.0 1.0 1.0\n",
      "{O 468661394477} {F 1541633298717} {B 1625349939396} {V 1723833896052} {S 1937055921414} {H 2318406267841} {C 2481750112848} {P 2671034416074} {K 2711448364276} {N 3411547316650}\n",
      "2942885922173\n"
     ]
    }
   ],
   "source": [
    "set further_state [math::linearalgebra::matmul [matpower $matrix 29] $state]\n",
    "set pop [letters_population $further_state $mapping]\n",
    "set final_score [expr { [lindex $pop end 1] - [lindex $pop 0 1] }]\n",
    "puts \"$further_state\\n$pop\\n$final_score\""
   ]
  },
  {
   "cell_type": "code",
   "execution_count": null,
   "id": "33b45114-61e2-493a-9f82-0aef4d982d47",
   "metadata": {},
   "outputs": [],
   "source": []
  }
 ],
 "metadata": {
  "kernelspec": {
   "display_name": "Tcl",
   "language": "tcl",
   "name": "tcljupyter"
  },
  "language_info": {
   "file_extension": ".tcl",
   "mimetype": "txt/x-tcl",
   "name": "tcl",
   "version": "8.6.11"
  }
 },
 "nbformat": 4,
 "nbformat_minor": 5
}
