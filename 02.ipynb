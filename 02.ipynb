{
 "cells": [
  {
   "cell_type": "markdown",
   "id": "ba6d4d10-e41b-4327-b578-d7439c94d049",
   "metadata": {},
   "source": [
    "# day two\n",
    "## part one\n",
    "processing commands for the submarine"
   ]
  },
  {
   "cell_type": "code",
   "execution_count": 1,
   "id": "741aee31-bd2f-4443-8b85-c3c8e0a5fbc0",
   "metadata": {},
   "outputs": [
    {
     "data": {
      "text/plain": [
       "8.6.11"
      ]
     },
     "execution_count": 1,
     "metadata": {},
     "output_type": "execute_result"
    }
   ],
   "source": [
    "package require Tcl 8.5 "
   ]
  },
  {
   "cell_type": "code",
   "execution_count": 7,
   "id": "60cd2e12-2198-425c-8829-6e656d574027",
   "metadata": {},
   "outputs": [
    {
     "name": "stdout",
     "output_type": "stream",
     "text": [
      "commands data in a list\n"
     ]
    }
   ],
   "source": [
    "set fl [open 02input]; set data [read $fl]; close $fl\n",
    "set commands [split $data \\n]\n",
    "puts \"commands data in a list\"\n",
    "foreach cmd $commands {\n",
    "    switch -glob $cmd {\n",
    "        \"forward *\" { }\n",
    "        \"up *\" { }\n",
    "        \"down *\" { }\n",
    "        \"\" {}\n",
    "        default {error \"unexpected input: [$cmd]\"} \n",
    "    }\n",
    "}"
   ]
  },
  {
   "cell_type": "code",
   "execution_count": 9,
   "id": "ab357113-35fb-4090-9233-cb4aede6d651",
   "metadata": {},
   "outputs": [
    {
     "name": "stdout",
     "output_type": "stream",
     "text": [
      "pos 1845 916, mult: 1690020\n"
     ]
    }
   ],
   "source": [
    "set x 0\n",
    "set y 0\n",
    "proc forward { d } { global x; incr x $d }\n",
    "proc down { d } { global y; incr y $d }\n",
    "proc up { d } { global y; incr y -$d }\n",
    "\n",
    "# input should be sanitized before calling \"eval\"!\n",
    "foreach cmd $commands {\n",
    "    {*}$cmd\n",
    "}\n",
    "puts \"pos $x $y, mult: [expr {$x*$y}]\"\n",
    "rename forward \"\"\n",
    "rename down \"\"\n",
    "rename up \"\""
   ]
  },
  {
   "cell_type": "markdown",
   "id": "47f0122e-99e2-4716-9e8e-6bf8fc84c36d",
   "metadata": {},
   "source": [
    "## part two\n",
    "the commands have a different interpretation"
   ]
  },
  {
   "cell_type": "code",
   "execution_count": 10,
   "id": "2b399266-eba7-4046-9d35-fa9c4c54fb44",
   "metadata": {},
   "outputs": [
    {
     "name": "stdout",
     "output_type": "stream",
     "text": [
      "pos 1845 763408, mult: 1408487760\n"
     ]
    }
   ],
   "source": [
    "set x 0\n",
    "set aim 0\n",
    "set y 0\n",
    "proc forward { d } {\n",
    "    global x y aim\n",
    "    incr x $d\n",
    "    incr y [expr {$d*$aim}]\n",
    "}\n",
    "proc down { d } { global aim; incr aim $d }\n",
    "proc up { d } { global aim; incr aim -$d }\n",
    "\n",
    "# input should be sanitized before calling \"eval\"!\n",
    "foreach cmd $commands {\n",
    "    {*}$cmd\n",
    "}\n",
    "puts \"pos $x $y, mult: [expr {$x*$y}]\"\n",
    "rename forward \"\"\n",
    "rename down \"\"\n",
    "rename up \"\"\n",
    "    "
   ]
  },
  {
   "cell_type": "code",
   "execution_count": null,
   "id": "5fca5ebb-a3de-466c-89f7-e7d76b36d4a7",
   "metadata": {},
   "outputs": [],
   "source": []
  }
 ],
 "metadata": {
  "kernelspec": {
   "display_name": "Tcl",
   "language": "tcl",
   "name": "tcljupyter"
  },
  "language_info": {
   "file_extension": ".tcl",
   "mimetype": "txt/x-tcl",
   "name": "tcl",
   "version": "8.6.11"
  }
 },
 "nbformat": 4,
 "nbformat_minor": 5
}
