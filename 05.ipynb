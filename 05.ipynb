{
 "cells": [
  {
   "cell_type": "markdown",
   "id": "938a431c-de50-4b41-a0bd-9017b61034c2",
   "metadata": {},
   "source": [
    "# Day Five\n",
    "## part one and two\n",
    "underwater map"
   ]
  },
  {
   "cell_type": "code",
   "execution_count": 1,
   "id": "0141bd3b-949c-42a1-9463-e2ea48674b23",
   "metadata": {},
   "outputs": [
    {
     "data": {
      "text/plain": [
       "8.6.11"
      ]
     },
     "execution_count": 1,
     "metadata": {},
     "output_type": "execute_result"
    }
   ],
   "source": [
    "package require Tcl 8.5"
   ]
  },
  {
   "cell_type": "code",
   "execution_count": 2,
   "id": "8ea2be4c-6270-4f1e-ab10-4e6ca23c8643",
   "metadata": {},
   "outputs": [
    {
     "data": {
      "text/plain": [
       "1.8.4"
      ]
     },
     "execution_count": 2,
     "metadata": {},
     "output_type": "execute_result"
    }
   ],
   "source": [
    "package require struct::list 1.8.4"
   ]
  },
  {
   "cell_type": "code",
   "execution_count": 3,
   "id": "c7ffd461-cb4a-47c1-b6a7-44988be3daae",
   "metadata": {},
   "outputs": [
    {
     "data": {
      "text/plain": [
       "{0 9 5 9} {8 0 0 8} {9 4 3 4} {2 2 2 1} {7 0 7 4} {6 4 2 0} {0 9 2 9} {3 4 1 4} {0 0 8 8} {5 5 8 2}"
      ]
     },
     "execution_count": 3,
     "metadata": {},
     "output_type": "execute_result"
    }
   ],
   "source": [
    "set test_input_txt \"0,9 -> 5,9\n",
    "8,0 -> 0,8\n",
    "9,4 -> 3,4\n",
    "2,2 -> 2,1\n",
    "7,0 -> 7,4\n",
    "6,4 -> 2,0\n",
    "0,9 -> 2,9\n",
    "3,4 -> 1,4\n",
    "0,0 -> 8,8\n",
    "5,5 -> 8,2\"\n",
    "set test_input [struct::list mapfor line [struct::list filter [split $test_input_txt \"\\n\"] {string length} ] { struct::list filter [split $line \"-> ,\"] {string length} }]"
   ]
  },
  {
   "cell_type": "code",
   "execution_count": 4,
   "id": "a81e658f-7ef2-4203-a62b-64c100291b6f",
   "metadata": {},
   "outputs": [],
   "source": [
    "set fl [open 05input]\n",
    "set input [struct::list mapfor line [struct::list filter [split [read $fl] \"\\n\"] {string length} ] { struct::list filter [split $line \"-> ,\"] {string length} }]\n",
    "close $fl"
   ]
  },
  {
   "cell_type": "code",
   "execution_count": 7,
   "id": "41b25a7b-910b-4622-be36-6efe204e48ce",
   "metadata": {},
   "outputs": [],
   "source": [
    "proc vertical_normalize { lst } {\n",
    "    lassign $lst x0 y0 x1 y1\n",
    "    if { $y0 > $y1 } { return [list $x1 $y1 $x0 $y0 ] }\n",
    "    return $lst\n",
    "}\n",
    "proc horizontal_normalize { lst } {\n",
    "    lassign $lst x0 y0 x1 y1\n",
    "    if { $x0 > $x1 } { return [list $x1 $y1 $x0 $y0 ] }\n",
    "    return $lst\n",
    "}\n",
    "\n",
    "proc is_vertical { lst } { expr { [lindex $lst 0] == [lindex $lst 2] } }\n",
    "proc is_horizontal { lst } { expr { [lindex $lst 1] == [lindex $lst 3] } }\n",
    "proc is_axis_oriented { lst } { expr { [is_vertical $lst] || [is_horizontal $lst] } }\n",
    "proc vertical_points { lst } { \n",
    "    lassign $lst x0 y0 x1 y1\n",
    "    set points {}\n",
    "    for { set i $y0 } { $i <= $y1 } { incr i } { lappend points [list $x0 $i] }\n",
    "    return $points\n",
    "}\n",
    "proc horizontal_points { lst } { \n",
    "    lassign $lst x0 y0 x1 y1\n",
    "    set points {}\n",
    "    for { set i $x0 } { $i <= $x1 } { incr i } { lappend points [list $i $y0] }\n",
    "    return $points\n",
    "}\n",
    "\n",
    "proc diagonal_points { lst } { \n",
    "    lassign $lst x0 y0 x1 y1\n",
    "    set vdir 1\n",
    "    if { $y0 > $y1 } { set vdir -1 }\n",
    "    set points {}\n",
    "    for { set x $x0; set y $y0 } { $x <= $x1 } { incr x; incr y $vdir } { lappend points [list $x $y] }\n",
    "    return $points\n",
    "}\n",
    "\n",
    "proc to_points { lst } {\n",
    "    if { [is_vertical $lst] } {\n",
    "        vertical_points [vertical_normalize $lst]\n",
    "    } elseif { [is_horizontal $lst] } {\n",
    "        horizontal_points [horizontal_normalize $lst] \n",
    "    } else {\n",
    "        diagonal_points [horizontal_normalize $lst]\n",
    "    }\n",
    "}"
   ]
  },
  {
   "cell_type": "code",
   "execution_count": 6,
   "id": "83cf2062-0aad-4786-840f-01a3e397418f",
   "metadata": {
    "scrolled": true,
    "tags": []
   },
   "outputs": [
    {
     "name": "stdout",
     "output_type": "stream",
     "text": [
      "tot 7269\n"
     ]
    }
   ],
   "source": [
    "set map {}\n",
    "foreach line [struct::list filter $input is_axis_oriented] {\n",
    "    foreach p [to_points $line ] {\n",
    "        set cnt 1\n",
    "        if {[dict exists $map $p]} {\n",
    "            lassign [dict get $map $p] cnt\n",
    "            incr cnt\n",
    "        }\n",
    "        dict set map $p $cnt\n",
    "    }\n",
    "}\n",
    "\n",
    "set tot_cnt 0\n",
    "dict for {p cnt} $map {\n",
    "    if { $cnt > 1 } {\n",
    "        incr tot_cnt\n",
    "        # puts \"[list $p $cnt]\"\n",
    "    }\n",
    "}\n",
    "puts \"tot $tot_cnt\""
   ]
  },
  {
   "cell_type": "code",
   "execution_count": 8,
   "id": "f0a0fc2e-8454-41d7-8a27-a0eec6327867",
   "metadata": {},
   "outputs": [
    {
     "name": "stdout",
     "output_type": "stream",
     "text": [
      "tot 21140\n"
     ]
    }
   ],
   "source": [
    "set map {}\n",
    "foreach line $input {\n",
    "    foreach p [to_points $line ] {\n",
    "        set cnt 1\n",
    "        if {[dict exists $map $p]} {\n",
    "            lassign [dict get $map $p] cnt\n",
    "            incr cnt\n",
    "        }\n",
    "        dict set map $p $cnt\n",
    "    }\n",
    "}\n",
    "\n",
    "set tot_cnt 0\n",
    "dict for {p cnt} $map {\n",
    "    if { $cnt > 1 } {\n",
    "        incr tot_cnt\n",
    "        # puts \"[list $p $cnt]\"\n",
    "    }\n",
    "}\n",
    "puts \"tot $tot_cnt\""
   ]
  }
 ],
 "metadata": {
  "kernelspec": {
   "display_name": "Tcl",
   "language": "tcl",
   "name": "tcljupyter"
  },
  "language_info": {
   "file_extension": ".tcl",
   "mimetype": "txt/x-tcl",
   "name": "tcl",
   "version": "8.6.11"
  }
 },
 "nbformat": 4,
 "nbformat_minor": 5
}
