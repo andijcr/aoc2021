{
 "cells": [
  {
   "cell_type": "markdown",
   "id": "872f82e9-1fab-4742-8a88-ab943e189b4c",
   "metadata": {},
   "source": [
    "# day three\n",
    "## part one\n",
    "binary diagnostic decoding"
   ]
  },
  {
   "cell_type": "code",
   "execution_count": 1,
   "id": "440295f4-b904-4e60-afc9-50a0e0c69c6c",
   "metadata": {},
   "outputs": [
    {
     "data": {
      "text/plain": [
       "8.6.11"
      ]
     },
     "execution_count": 1,
     "metadata": {},
     "output_type": "execute_result"
    }
   ],
   "source": [
    "package require Tcl 8.5"
   ]
  },
  {
   "cell_type": "code",
   "execution_count": 2,
   "id": "4b59fdfc-f500-4653-8ae0-1d0186c00254",
   "metadata": {},
   "outputs": [
    {
     "data": {
      "text/plain": [
       "1.8.4"
      ]
     },
     "execution_count": 2,
     "metadata": {},
     "output_type": "execute_result"
    }
   ],
   "source": [
    "package require struct::list 1.8.4"
   ]
  },
  {
   "cell_type": "code",
   "execution_count": 3,
   "id": "0640d561-2600-4003-b463-9d8b57002a6c",
   "metadata": {},
   "outputs": [
    {
     "data": {
      "text/plain": [
       "00100 11110 10110 10111 10101 01111 00111 11100 10000 11001 00010 01010"
      ]
     },
     "execution_count": 3,
     "metadata": {},
     "output_type": "execute_result"
    }
   ],
   "source": [
    "set test_statuses [struct::list filter [split \"00100\n",
    "11110\n",
    "10110\n",
    "10111\n",
    "10101\n",
    "01111\n",
    "00111\n",
    "11100\n",
    "10000\n",
    "11001\n",
    "00010\n",
    "01010\" \\n] {string length} ]"
   ]
  },
  {
   "cell_type": "code",
   "execution_count": 4,
   "id": "fb9a81d6-de25-4794-a341-0c0128f59386",
   "metadata": {},
   "outputs": [
    {
     "name": "stdout",
     "output_type": "stream",
     "text": [
      "statuses data in a list\n"
     ]
    }
   ],
   "source": [
    "set fl [open 03input]; set data [read $fl]; close $fl\n",
    "set statuses [struct::list filter [split $data \\n] {string length}]; unset data \n",
    "puts \"statuses data in a list\""
   ]
  },
  {
   "cell_type": "code",
   "execution_count": 5,
   "id": "1a33f211-728d-4ef4-aedb-93c49e5010c6",
   "metadata": {},
   "outputs": [
    {
     "data": {
      "text/plain": [
       "1 1 1 1 0 0 0 0 0 1 0 1"
      ]
     },
     "execution_count": 5,
     "metadata": {},
     "output_type": "execute_result"
    }
   ],
   "source": [
    "split [lindex $statuses 0] \"\""
   ]
  },
  {
   "cell_type": "code",
   "execution_count": 6,
   "id": "4bc1987f-27b7-444b-97b9-0151b3fc05ba",
   "metadata": {},
   "outputs": [],
   "source": [
    "proc make_report {report item} {\n",
    "    set res {}\n",
    "    foreach r $report i [split $item \"\"] {\n",
    "        lappend res [incr r [ expr { ($i*2) -1 } ]]\n",
    "    }\n",
    "    return $res\n",
    "}"
   ]
  },
  {
   "cell_type": "code",
   "execution_count": 7,
   "id": "9459687e-6ea8-449e-a1ef-f6e17e88401c",
   "metadata": {},
   "outputs": [
    {
     "data": {
      "text/plain": [
       "22 -4 8 26 46 -26 4 22 34 26 -36 -4"
      ]
     },
     "execution_count": 7,
     "metadata": {},
     "output_type": "execute_result"
    }
   ],
   "source": [
    "set empty_report [struct::list repeat [string length [lindex $statuses 0]] 0]\n",
    "set report [struct::list fold $statuses $empty_report make_report]"
   ]
  },
  {
   "cell_type": "code",
   "execution_count": 8,
   "id": "046dd8b6-08bd-4839-8c22-71c921f7e863",
   "metadata": {},
   "outputs": [
    {
     "data": {
      "text/plain": [
       "0b010001000011"
      ]
     },
     "execution_count": 8,
     "metadata": {},
     "output_type": "execute_result"
    }
   ],
   "source": [
    "set gamma_report [string cat 0b [join [::struct::list mapfor d $report {expr { $d > 0 }}] \"\" ]]\n",
    "set epsilon_report [string cat 0b [join [::struct::list mapfor d $report { expr { $d < 0 }}] \"\" ]] "
   ]
  },
  {
   "cell_type": "code",
   "execution_count": 9,
   "id": "440c5519-c03b-459f-b633-1443936d1467",
   "metadata": {},
   "outputs": [
    {
     "name": "stdout",
     "output_type": "stream",
     "text": [
      "gamma 3004 epsilon 1091\n"
     ]
    },
    {
     "data": {
      "text/plain": [
       "3277364"
      ]
     },
     "execution_count": 9,
     "metadata": {},
     "output_type": "execute_result"
    }
   ],
   "source": [
    "puts \"gamma [expr { $gamma_report }] epsilon [ expr { $epsilon_report }]\"\n",
    "expr { $gamma_report * $epsilon_report }"
   ]
  },
  {
   "cell_type": "markdown",
   "id": "a6f13064-bb9f-48a2-a4d8-971b0ba88264",
   "metadata": {},
   "source": [
    "## part two\n",
    "oxigen rating and co2 rating are found in the list with a iterative process of elimination"
   ]
  },
  {
   "cell_type": "code",
   "execution_count": 10,
   "id": "29a45a56-9215-4e0b-a9a3-7fed384f4259",
   "metadata": {},
   "outputs": [
    {
     "data": {
      "text/plain": [
       "1"
      ]
     },
     "execution_count": 10,
     "metadata": {},
     "output_type": "execute_result"
    }
   ],
   "source": [
    "package require lambda 1"
   ]
  },
  {
   "cell_type": "code",
   "execution_count": 11,
   "id": "46c74cbc-1cd5-4916-b0d4-4ad7240c0f3f",
   "metadata": {},
   "outputs": [],
   "source": [
    "proc is_1 { i item } {\n",
    "    string index $item $i\n",
    "}\n",
    "\n",
    "proc is_0 { i item } {\n",
    "    expr {![is_1 $i $item]}\n",
    "}\n",
    "\n",
    "proc count_bit_column { i } {\n",
    "    lambda { i report item } {\n",
    "        lassign $report zero_cnt one_cnt\n",
    "        list [incr zero_cnt [is_0 $i $item]] [incr one_cnt [is_1 $i $item]]\n",
    "    } $i\n",
    "}\n",
    "\n",
    "proc is_oxi { i report } {\n",
    "    lassign $report 0_rep 1_rep\n",
    "\n",
    "    if { $1_rep == 0 || $0_rep == 0} { return lambda {item} {expr 1} }\n",
    "    \n",
    "    if { $1_rep >= $0_rep } {\n",
    "        list is_1 $i\n",
    "    } else {\n",
    "        list is_0 $i\n",
    "    }\n",
    "}\n",
    "\n",
    "proc is_co2 { i report } {\n",
    "    lassign $report 0_rep 1_rep\n",
    "    if { $1_rep == 0 || $0_rep == 0} { return lambda {item} {expr 1} }\n",
    "    \n",
    "    if { $1_rep >= $0_rep } {\n",
    "        list is_0 $i\n",
    "    } else {\n",
    "        list is_1 $i\n",
    "    }\n",
    "}\n"
   ]
  },
  {
   "cell_type": "code",
   "execution_count": 12,
   "id": "76f9bdd2-4a32-4f50-833c-4b92b2e5400c",
   "metadata": {},
   "outputs": [
    {
     "name": "stdout",
     "output_type": "stream",
     "text": [
      "oxi rating: 0b110111111111 3583\n"
     ]
    }
   ],
   "source": [
    "set oxi_statuses $statuses\n",
    "for {set i 0; set max [string length [lindex $oxi_statuses 0]]} { $i < $max } {incr i } {\n",
    "    if { [llength $oxi_statuses] == 1 } { break }\n",
    "    set oxi_acc [struct::list fold $oxi_statuses [list 0 0] [count_bit_column $i]]\n",
    "    set oxi_statuses [struct::list filter $oxi_statuses [is_oxi $i $oxi_acc]]\n",
    "}\n",
    "set oxi_rating [string cat 0b $oxi_statuses]\n",
    "puts \"oxi rating: $oxi_rating [expr {$oxi_rating}]\""
   ]
  },
  {
   "cell_type": "code",
   "execution_count": 13,
   "id": "b756d071-3c6f-47b7-843f-74ce19659a68",
   "metadata": {},
   "outputs": [
    {
     "name": "stdout",
     "output_type": "stream",
     "text": [
      "co2 rating: 0b011001000001 1601\n"
     ]
    }
   ],
   "source": [
    "set co2_statuses $statuses\n",
    "for {set i 0; set max [string length [lindex $co2_statuses 0]]} { $i < $max } {incr i } {\n",
    "    if { [llength $co2_statuses] == 1 } { break }\n",
    "    set co2_acc [struct::list fold $co2_statuses [list 0 0] [count_bit_column $i]]\n",
    "    set co2_statuses [struct::list filter $co2_statuses [is_co2 $i $co2_acc]]\n",
    "}\n",
    "set co2_rating [string cat 0b $co2_statuses]\n",
    "puts \"co2 rating: $co2_rating [expr {$co2_rating}]\""
   ]
  },
  {
   "cell_type": "code",
   "execution_count": 14,
   "id": "6c1bed1b-8ee6-4477-99df-1eef50db49a7",
   "metadata": {},
   "outputs": [
    {
     "name": "stdout",
     "output_type": "stream",
     "text": [
      "life support rating: 5736383\n"
     ]
    }
   ],
   "source": [
    "puts \"life support rating: [expr {$oxi_rating * $co2_rating }]\""
   ]
  }
 ],
 "metadata": {
  "kernelspec": {
   "display_name": "Tcl",
   "language": "tcl",
   "name": "tcljupyter"
  },
  "language_info": {
   "file_extension": ".tcl",
   "mimetype": "txt/x-tcl",
   "name": "tcl",
   "version": "8.6.11"
  }
 },
 "nbformat": 4,
 "nbformat_minor": 5
}
